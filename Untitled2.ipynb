{
 "cells": [
  {
   "cell_type": "code",
   "execution_count": 1,
   "id": "ec376803-bc09-4f06-b414-758274fb6292",
   "metadata": {},
   "outputs": [
    {
     "name": "stdout",
     "output_type": "stream",
     "text": [
      "Requirement already satisfied: nbformat in c:\\users\\peter\\anaconda3\\envs\\capstone\\lib\\site-packages (5.9.2)\n",
      "Requirement already satisfied: fastjsonschema in c:\\users\\peter\\anaconda3\\envs\\capstone\\lib\\site-packages (from nbformat) (2.16.2)\n",
      "Requirement already satisfied: jsonschema>=2.6 in c:\\users\\peter\\anaconda3\\envs\\capstone\\lib\\site-packages (from nbformat) (4.19.2)\n",
      "Requirement already satisfied: jupyter-core in c:\\users\\peter\\anaconda3\\envs\\capstone\\lib\\site-packages (from nbformat) (5.5.0)\n",
      "Requirement already satisfied: traitlets>=5.1 in c:\\users\\peter\\anaconda3\\envs\\capstone\\lib\\site-packages (from nbformat) (5.7.1)\n",
      "Requirement already satisfied: attrs>=22.2.0 in c:\\users\\peter\\anaconda3\\envs\\capstone\\lib\\site-packages (from jsonschema>=2.6->nbformat) (23.1.0)\n",
      "Requirement already satisfied: jsonschema-specifications>=2023.03.6 in c:\\users\\peter\\anaconda3\\envs\\capstone\\lib\\site-packages (from jsonschema>=2.6->nbformat) (2023.7.1)\n",
      "Requirement already satisfied: referencing>=0.28.4 in c:\\users\\peter\\anaconda3\\envs\\capstone\\lib\\site-packages (from jsonschema>=2.6->nbformat) (0.30.2)\n",
      "Requirement already satisfied: rpds-py>=0.7.1 in c:\\users\\peter\\anaconda3\\envs\\capstone\\lib\\site-packages (from jsonschema>=2.6->nbformat) (0.10.6)\n",
      "Requirement already satisfied: platformdirs>=2.5 in c:\\users\\peter\\anaconda3\\envs\\capstone\\lib\\site-packages (from jupyter-core->nbformat) (3.10.0)\n",
      "Requirement already satisfied: pywin32>=300 in c:\\users\\peter\\anaconda3\\envs\\capstone\\lib\\site-packages (from jupyter-core->nbformat) (305.1)\n"
     ]
    }
   ],
   "source": [
    "!pip install nbformat"
   ]
  },
  {
   "cell_type": "code",
   "execution_count": 7,
   "id": "a63ffa14-9128-4acc-aa50-dd3721866055",
   "metadata": {},
   "outputs": [
    {
     "name": "stdout",
     "output_type": "stream",
     "text": [
      "flask_server.ipynb 파일의 코드 라인 수: 196\n",
      "braille_translate.ipynb 파일의 코드 라인 수: 188\n",
      "camera_operation.ipynb 파일의 코드 라인 수: 20\n",
      "text_processing.ipynb 파일의 코드 라인 수: 156\n"
     ]
    }
   ],
   "source": [
    "import nbformat\n",
    "\n",
    "# 노트북 파일 경로 설정\n",
    "notebook_paths = ['flask_server.ipynb', 'braille_translate.ipynb', 'camera_operation.ipynb', 'text_processing.ipynb']\n",
    "\n",
    "def count_code_lines(notebook_path):\n",
    "    # 노트북 파일을 읽습니다.\n",
    "    with open(notebook_path, 'r', encoding='utf-8') as f:\n",
    "        nb = nbformat.read(f, as_version=4)\n",
    "    \n",
    "    # 코드 셀의 라인 수를 계산합니다.\n",
    "    code_lines_count = 0\n",
    "    for cell in nb.cells:\n",
    "        if cell.cell_type == 'code':\n",
    "            code_lines_count += len(cell.source.split('\\n'))\n",
    "    \n",
    "    return code_lines_count\n",
    "\n",
    "# 각 노트북 파일에 대해 라인 수를 계산하고 출력합니다.\n",
    "for path in notebook_paths:\n",
    "    lines_count = count_code_lines(path)\n",
    "    print(f'{path} 파일의 코드 라인 수: {lines_count}')\n"
   ]
  },
  {
   "cell_type": "code",
   "execution_count": null,
   "id": "314dee04-3032-443f-808e-7e684de1765c",
   "metadata": {},
   "outputs": [],
   "source": []
  }
 ],
 "metadata": {
  "kernelspec": {
   "display_name": "Python 3 (ipykernel)",
   "language": "python",
   "name": "python3"
  },
  "language_info": {
   "codemirror_mode": {
    "name": "ipython",
    "version": 3
   },
   "file_extension": ".py",
   "mimetype": "text/x-python",
   "name": "python",
   "nbconvert_exporter": "python",
   "pygments_lexer": "ipython3",
   "version": "3.12.2"
  }
 },
 "nbformat": 4,
 "nbformat_minor": 5
}
