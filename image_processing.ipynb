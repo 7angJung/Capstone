{
 "cells": [
  {
   "cell_type": "code",
   "execution_count": null,
   "id": "e1c76b3e-779d-46b2-8d90-22db4ad1026a",
   "metadata": {},
   "outputs": [],
   "source": [
    "# PyTorch와 torchvision 설치\n",
    "!pip install torch torchvision torchaudio\n",
    "# 데이터를 분석 및 조작\n",
    "!pip install pandas\n",
    "# 이미지 작업\n",
    "!pip install pillow\n",
    "# matplotlib 설치\n",
    "!pip install matplotlib\n",
    "# GUI 없는 환경에서 OpenCV 사용을 위해\n",
    "!pip install opencv-python-headless\n",
    "# clone\n",
    "!git clone https://github.com/ultralytics/yolov5"
   ]
  },
  {
   "cell_type": "code",
   "execution_count": null,
   "id": "bf2b01b3-9f30-4149-ab7b-67114cbc8af9",
   "metadata": {},
   "outputs": [],
   "source": [
    "import torch\n",
    "import cv2\n",
    "import matplotlib.pyplot as plt\n",
    "from PIL import Image, ImageDraw, ImageFont, ImageEnhance\n",
    "import sys\n",
    "\n",
    "def crop_book(image_path, left_half_path, right_half_path):\n",
    "    # 모델 로드\n",
    "    model = torch.hub.load(\"ultralytics/yolov5\", \"yolov5s\")  # YOLOv5 모델 버전 선택\n",
    "\n",
    "    # 추론 수행\n",
    "    results = model(image_path)\n",
    "\n",
    "    # detected된 모든 객체를 pandas 데이터프레임 형태로 변환\n",
    "    df = results.pandas().xyxy[0]\n",
    "\n",
    "    # 'book' 클래스의 객체들만 필터링\n",
    "    book_df = df[df['name'] == 'book']\n",
    "\n",
    "    # confidence가 가장 높은 'book' 객체 찾기\n",
    "    if not book_df.empty:\n",
    "        highest_conf_row = book_df.loc[book_df['confidence'].idxmax()]\n",
    "        \n",
    "        # 이미지 로드\n",
    "        img = Image.open(image_path)\n",
    "        \n",
    "        # 바운딩 박스로 이미지 자르기\n",
    "        cropped = img.crop((int(highest_conf_row['xmin']), int(highest_conf_row['ymin']), int(highest_conf_row['xmax']), int(highest_conf_row['ymax'])))\n",
    "        \n",
    "        # 이미지를 가로로 반으로 나누기\n",
    "        width, height = cropped.size\n",
    "        left_half = cropped.crop((0, 0, width/2, height))\n",
    "        right_half = cropped.crop((width/2, 0, width, height))\n",
    "        \n",
    "        # 나눠진 이미지 파일 저장\n",
    "        left_half.save(left_half_path)\n",
    "        right_half.save(right_half_path)\n",
    "        \n",
    "        return True  # 성공적으로 처리됨\n",
    "    else:\n",
    "        print(\"탐지된 'book'이 없습니다.\")\n",
    "        return False  # 'book'이 탐지되지 않음"
   ]
  }
 ],
 "metadata": {
  "kernelspec": {
   "display_name": "Python 3 (ipykernel)",
   "language": "python",
   "name": "python3"
  },
  "language_info": {
   "codemirror_mode": {
    "name": "ipython",
    "version": 3
   },
   "file_extension": ".py",
   "mimetype": "text/x-python",
   "name": "python",
   "nbconvert_exporter": "python",
   "pygments_lexer": "ipython3",
   "version": "3.12.2"
  }
 },
 "nbformat": 4,
 "nbformat_minor": 5
}
