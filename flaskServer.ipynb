{
 "cells": [
  {
   "cell_type": "code",
   "execution_count": 72,
   "id": "1d687b9d-2308-48db-b13b-aa4f12921d75",
   "metadata": {},
   "outputs": [
    {
     "name": "stdout",
     "output_type": "stream",
     "text": [
      "Requirement already satisfied: flask in c:\\users\\peter\\anaconda3\\envs\\capstone\\lib\\site-packages (3.0.3)\n",
      "Requirement already satisfied: Werkzeug>=3.0.0 in c:\\users\\peter\\anaconda3\\envs\\capstone\\lib\\site-packages (from flask) (3.0.2)\n",
      "Requirement already satisfied: Jinja2>=3.1.2 in c:\\users\\peter\\anaconda3\\envs\\capstone\\lib\\site-packages (from flask) (3.1.3)\n",
      "Requirement already satisfied: itsdangerous>=2.1.2 in c:\\users\\peter\\anaconda3\\envs\\capstone\\lib\\site-packages (from flask) (2.2.0)\n",
      "Requirement already satisfied: click>=8.1.3 in c:\\users\\peter\\anaconda3\\envs\\capstone\\lib\\site-packages (from flask) (8.1.7)\n",
      "Requirement already satisfied: blinker>=1.6.2 in c:\\users\\peter\\anaconda3\\envs\\capstone\\lib\\site-packages (from flask) (1.8.1)\n",
      "Requirement already satisfied: colorama in c:\\users\\peter\\anaconda3\\envs\\capstone\\lib\\site-packages (from click>=8.1.3->flask) (0.4.6)\n",
      "Requirement already satisfied: MarkupSafe>=2.0 in c:\\users\\peter\\anaconda3\\envs\\capstone\\lib\\site-packages (from Jinja2>=3.1.2->flask) (2.1.3)\n",
      "Requirement already satisfied: pyserial in c:\\users\\peter\\anaconda3\\envs\\capstone\\lib\\site-packages (3.5)\n"
     ]
    },
    {
     "name": "stderr",
     "output_type": "stream",
     "text": [
      "[NbConvertApp] Converting notebook functions.ipynb to script\n",
      "[NbConvertApp] Writing 4198 bytes to functions.py\n"
     ]
    },
    {
     "name": "stdout",
     "output_type": "stream",
     "text": [
      "Requirement already satisfied: nbimporter in c:\\users\\peter\\anaconda3\\envs\\capstone\\lib\\site-packages (0.3.4)\n"
     ]
    }
   ],
   "source": [
    "!pip install flask\n",
    "!pip install pyserial\n",
    "!jupyter nbconvert --to script functions.ipynb\n",
    "!pip install nbimporter"
   ]
  },
  {
   "cell_type": "code",
   "execution_count": 12,
   "id": "a5bf08b9-f081-49b7-b265-b879e7538ab2",
   "metadata": {},
   "outputs": [
    {
     "name": "stdout",
     "output_type": "stream",
     "text": [
      " * Serving Flask app '__main__'\n",
      " * Debug mode: off\n"
     ]
    },
    {
     "name": "stderr",
     "output_type": "stream",
     "text": [
      "WARNING: This is a development server. Do not use it in a production deployment. Use a production WSGI server instead.\n",
      " * Running on all addresses (0.0.0.0)\n",
      " * Running on http://127.0.0.1:5000\n",
      " * Running on http://192.168.0.27:5000\n",
      "INFO:werkzeug:\u001b[31m\u001b[1mWARNING: This is a development server. Do not use it in a production deployment. Use a production WSGI server instead.\u001b[0m\n",
      " * Running on all addresses (0.0.0.0)\n",
      " * Running on http://127.0.0.1:5000\n",
      " * Running on http://192.168.0.27:5000\n",
      "Press CTRL+C to quit\n",
      "INFO:werkzeug:\u001b[33mPress CTRL+C to quit\u001b[0m\n",
      "127.0.0.1 - - [10/May/2024 12:01:06] \"GET / HTTP/1.1\" 200 -\n",
      "INFO:werkzeug:127.0.0.1 - - [10/May/2024 12:01:06] \"GET / HTTP/1.1\" 200 -\n",
      "127.0.0.1 - - [10/May/2024 12:01:06] \"GET /favicon.ico HTTP/1.1\" 404 -\n",
      "INFO:werkzeug:127.0.0.1 - - [10/May/2024 12:01:06] \"\u001b[33mGET /favicon.ico HTTP/1.1\u001b[0m\" 404 -\n"
     ]
    }
   ],
   "source": [
    "from flask import Flask, request, jsonify\n",
    "app = Flask(__name__)\n",
    "\n",
    "@app.route('/')\n",
    "def index():\n",
    "    return 'Welcome to my capstone server'\n",
    "\n",
    "if __name__ == '__main__':\n",
    "    app.run(host='0.0.0.0')"
   ]
  },
  {
   "cell_type": "code",
   "execution_count": 70,
   "id": "efe07222-0ba1-41a4-a7f1-8b1997e9c27e",
   "metadata": {},
   "outputs": [
    {
     "name": "stdout",
     "output_type": "stream",
     "text": [
      " * Serving Flask app '__main__'\n",
      " * Debug mode: off\n"
     ]
    },
    {
     "name": "stderr",
     "output_type": "stream",
     "text": [
      "WARNING: This is a development server. Do not use it in a production deployment. Use a production WSGI server instead.\n",
      " * Running on all addresses (0.0.0.0)\n",
      " * Running on http://127.0.0.1:5000\n",
      " * Running on http://172.16.18.234:5000\n",
      "INFO:werkzeug:\u001b[31m\u001b[1mWARNING: This is a development server. Do not use it in a production deployment. Use a production WSGI server instead.\u001b[0m\n",
      " * Running on all addresses (0.0.0.0)\n",
      " * Running on http://127.0.0.1:5000\n",
      " * Running on http://172.16.18.234:5000\n",
      "Press CTRL+C to quit\n",
      "INFO:werkzeug:\u001b[33mPress CTRL+C to quit\u001b[0m\n"
     ]
    },
    {
     "name": "stdout",
     "output_type": "stream",
     "text": [
      "Received from Arduino: Next\n",
      "Showing next text...\n",
      "Received from Arduino: Previous\n",
      "Showing previous text...\n"
     ]
    }
   ],
   "source": [
    "from flask import Flask\n",
    "import serial\n",
    "import threading\n",
    "import subprocess\n",
    "import nbimporter\n",
    "\n",
    "app = Flask(__name__)\n",
    "\n",
    "# 연결할 시리얼 포트와 baudrate 설정\n",
    "ser = serial.Serial('COM3', 9600)\n",
    "\n",
    "def read_from_port(ser):\n",
    "    while True:\n",
    "        reading = ser.readline().decode().strip()  # 끝의 줄바꿈 제거\n",
    "        print(\"Received from Arduino:\", reading)\n",
    "        if reading == \"Take Picture\":\n",
    "            take_picture()\n",
    "        elif reading == \"Next\":\n",
    "            next_text()\n",
    "        elif reading == \"Previous\":\n",
    "            previous_text()\n",
    "        else:\n",
    "            print(\"Received from Arduino:\", reading)\n",
    "\n",
    "def take_picture():\n",
    "    print(\"Taking picture...\")\n",
    "    # 'main.ipynb' 노트북을 실행하는 명령어\n",
    "    command = ['jupyter', 'notebook', 'main.ipynb']\n",
    "    # subprocess를 이용하여 명령어 실행\n",
    "    subprocess.run(command)\n",
    "    print(\"main.ipynb 실행됨...\")\n",
    "    \n",
    "def next_text():\n",
    "    print(\"Showing next text...\")\n",
    "\n",
    "def previous_text():\n",
    "    print(\"Showing previous text...\")\n",
    "\n",
    "@app.route('/')\n",
    "def index():\n",
    "    return \"Serial Communication with Arduino\"\n",
    "\n",
    "thread = threading.Thread(target=read_from_port, args=(ser,))\n",
    "thread.start()\n",
    "\n",
    "if __name__ == '__main__':\n",
    "    app.run(debug=False, host='0.0.0.0', port=5000)\n"
   ]
  }
 ],
 "metadata": {
  "kernelspec": {
   "display_name": "Python 3 (ipykernel)",
   "language": "python",
   "name": "python3"
  },
  "language_info": {
   "codemirror_mode": {
    "name": "ipython",
    "version": 3
   },
   "file_extension": ".py",
   "mimetype": "text/x-python",
   "name": "python",
   "nbconvert_exporter": "python",
   "pygments_lexer": "ipython3",
   "version": "3.12.2"
  }
 },
 "nbformat": 4,
 "nbformat_minor": 5
}
