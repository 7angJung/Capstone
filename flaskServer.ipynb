{
 "cells": [
  {
   "cell_type": "code",
   "execution_count": 1,
   "id": "1d687b9d-2308-48db-b13b-aa4f12921d75",
   "metadata": {},
   "outputs": [
    {
     "name": "stdout",
     "output_type": "stream",
     "text": [
      "Requirement already satisfied: flask in c:\\users\\peter\\anaconda3\\envs\\capstone\\lib\\site-packages (3.0.3)\n",
      "Requirement already satisfied: Werkzeug>=3.0.0 in c:\\users\\peter\\anaconda3\\envs\\capstone\\lib\\site-packages (from flask) (3.0.2)\n",
      "Requirement already satisfied: Jinja2>=3.1.2 in c:\\users\\peter\\anaconda3\\envs\\capstone\\lib\\site-packages (from flask) (3.1.3)\n",
      "Requirement already satisfied: itsdangerous>=2.1.2 in c:\\users\\peter\\anaconda3\\envs\\capstone\\lib\\site-packages (from flask) (2.2.0)\n",
      "Requirement already satisfied: click>=8.1.3 in c:\\users\\peter\\anaconda3\\envs\\capstone\\lib\\site-packages (from flask) (8.1.7)\n",
      "Requirement already satisfied: blinker>=1.6.2 in c:\\users\\peter\\anaconda3\\envs\\capstone\\lib\\site-packages (from flask) (1.8.1)\n",
      "Requirement already satisfied: colorama in c:\\users\\peter\\anaconda3\\envs\\capstone\\lib\\site-packages (from click>=8.1.3->flask) (0.4.6)\n",
      "Requirement already satisfied: MarkupSafe>=2.0 in c:\\users\\peter\\anaconda3\\envs\\capstone\\lib\\site-packages (from Jinja2>=3.1.2->flask) (2.1.3)\n",
      "Requirement already satisfied: pyserial in c:\\users\\peter\\anaconda3\\envs\\capstone\\lib\\site-packages (3.5)\n"
     ]
    },
    {
     "name": "stderr",
     "output_type": "stream",
     "text": [
      "[NbConvertApp] Converting notebook functions.ipynb to script\n",
      "[NbConvertApp] Writing 5340 bytes to functions.py\n"
     ]
    },
    {
     "name": "stdout",
     "output_type": "stream",
     "text": [
      "Requirement already satisfied: nbimporter in c:\\users\\peter\\anaconda3\\envs\\capstone\\lib\\site-packages (0.3.4)\n"
     ]
    }
   ],
   "source": [
    "!pip install flask\n",
    "!pip install pyserial\n",
    "!jupyter nbconvert --to script functions.ipynb\n",
    "!pip install nbimporter"
   ]
  },
  {
   "cell_type": "code",
   "execution_count": 12,
   "id": "a5bf08b9-f081-49b7-b265-b879e7538ab2",
   "metadata": {},
   "outputs": [
    {
     "name": "stdout",
     "output_type": "stream",
     "text": [
      " * Serving Flask app '__main__'\n",
      " * Debug mode: off\n"
     ]
    },
    {
     "name": "stderr",
     "output_type": "stream",
     "text": [
      "WARNING: This is a development server. Do not use it in a production deployment. Use a production WSGI server instead.\n",
      " * Running on all addresses (0.0.0.0)\n",
      " * Running on http://127.0.0.1:5000\n",
      " * Running on http://192.168.0.27:5000\n",
      "INFO:werkzeug:\u001b[31m\u001b[1mWARNING: This is a development server. Do not use it in a production deployment. Use a production WSGI server instead.\u001b[0m\n",
      " * Running on all addresses (0.0.0.0)\n",
      " * Running on http://127.0.0.1:5000\n",
      " * Running on http://192.168.0.27:5000\n",
      "Press CTRL+C to quit\n",
      "INFO:werkzeug:\u001b[33mPress CTRL+C to quit\u001b[0m\n",
      "127.0.0.1 - - [10/May/2024 12:01:06] \"GET / HTTP/1.1\" 200 -\n",
      "INFO:werkzeug:127.0.0.1 - - [10/May/2024 12:01:06] \"GET / HTTP/1.1\" 200 -\n",
      "127.0.0.1 - - [10/May/2024 12:01:06] \"GET /favicon.ico HTTP/1.1\" 404 -\n",
      "INFO:werkzeug:127.0.0.1 - - [10/May/2024 12:01:06] \"\u001b[33mGET /favicon.ico HTTP/1.1\u001b[0m\" 404 -\n"
     ]
    }
   ],
   "source": [
    "from flask import Flask, request, jsonify\n",
    "app = Flask(__name__)\n",
    "\n",
    "@app.route('/')\n",
    "def index():\n",
    "    return 'Welcome to my capstone server'\n",
    "\n",
    "if __name__ == '__main__':\n",
    "    app.run(host='0.0.0.0')"
   ]
  },
  {
   "cell_type": "code",
   "execution_count": null,
   "id": "efe07222-0ba1-41a4-a7f1-8b1997e9c27e",
   "metadata": {},
   "outputs": [
    {
     "name": "stdout",
     "output_type": "stream",
     "text": [
      "Requirement already satisfied: easyocr in c:\\users\\peter\\appdata\\roaming\\python\\python312\\site-packages (1.7.1)\n",
      "Requirement already satisfied: torch in c:\\users\\peter\\appdata\\roaming\\python\\python312\\site-packages (from easyocr) (2.2.1)\n",
      "Requirement already satisfied: torchvision>=0.5 in c:\\users\\peter\\appdata\\roaming\\python\\python312\\site-packages (from easyocr) (0.17.1)\n",
      "Requirement already satisfied: opencv-python-headless in c:\\users\\peter\\anaconda3\\envs\\capstone\\lib\\site-packages (from easyocr) (4.8.0.74)\n",
      "Requirement already satisfied: scipy in c:\\users\\peter\\anaconda3\\envs\\capstone\\lib\\site-packages (from easyocr) (1.12.0)\n",
      "Requirement already satisfied: numpy in c:\\users\\peter\\anaconda3\\envs\\capstone\\lib\\site-packages (from easyocr) (1.26.4)\n",
      "Requirement already satisfied: Pillow in c:\\users\\peter\\anaconda3\\envs\\capstone\\lib\\site-packages (from easyocr) (10.3.0)\n",
      "Requirement already satisfied: scikit-image in c:\\users\\peter\\appdata\\roaming\\python\\python312\\site-packages (from easyocr) (0.22.0)\n",
      "Requirement already satisfied: python-bidi in c:\\users\\peter\\anaconda3\\envs\\capstone\\lib\\site-packages (from easyocr) (0.4.2)\n",
      "Requirement already satisfied: PyYAML in c:\\users\\peter\\anaconda3\\envs\\capstone\\lib\\site-packages (from easyocr) (6.0.1)\n",
      "Requirement already satisfied: Shapely in c:\\users\\peter\\anaconda3\\envs\\capstone\\lib\\site-packages (from easyocr) (2.0.3)\n",
      "Requirement already satisfied: pyclipper in c:\\users\\peter\\anaconda3\\envs\\capstone\\lib\\site-packages (from easyocr) (1.3.0.post5)\n",
      "Requirement already satisfied: ninja in c:\\users\\peter\\anaconda3\\envs\\capstone\\lib\\site-packages (from easyocr) (1.11.1.1)\n",
      "Requirement already satisfied: filelock in c:\\users\\peter\\appdata\\roaming\\python\\python312\\site-packages (from torch->easyocr) (3.13.1)\n",
      "Requirement already satisfied: typing-extensions>=4.8.0 in c:\\users\\peter\\anaconda3\\envs\\capstone\\lib\\site-packages (from torch->easyocr) (4.9.0)\n",
      "Requirement already satisfied: sympy in c:\\users\\peter\\anaconda3\\envs\\capstone\\lib\\site-packages (from torch->easyocr) (1.12)\n",
      "Requirement already satisfied: networkx in c:\\users\\peter\\appdata\\roaming\\python\\python312\\site-packages (from torch->easyocr) (3.2.1)\n",
      "Requirement already satisfied: jinja2 in c:\\users\\peter\\anaconda3\\envs\\capstone\\lib\\site-packages (from torch->easyocr) (3.1.3)\n",
      "Requirement already satisfied: fsspec in c:\\users\\peter\\appdata\\roaming\\python\\python312\\site-packages (from torch->easyocr) (2024.3.1)\n",
      "Requirement already satisfied: six in c:\\users\\peter\\anaconda3\\envs\\capstone\\lib\\site-packages (from python-bidi->easyocr) (1.16.0)\n",
      "Requirement already satisfied: imageio>=2.27 in c:\\users\\peter\\appdata\\roaming\\python\\python312\\site-packages (from scikit-image->easyocr) (2.34.0)\n",
      "Requirement already satisfied: tifffile>=2022.8.12 in c:\\users\\peter\\anaconda3\\envs\\capstone\\lib\\site-packages (from scikit-image->easyocr) (2024.2.12)\n",
      "Requirement already satisfied: packaging>=21 in c:\\users\\peter\\anaconda3\\envs\\capstone\\lib\\site-packages (from scikit-image->easyocr) (23.2)\n",
      "Requirement already satisfied: lazy_loader>=0.3 in c:\\users\\peter\\appdata\\roaming\\python\\python312\\site-packages (from scikit-image->easyocr) (0.3)\n",
      "Requirement already satisfied: MarkupSafe>=2.0 in c:\\users\\peter\\anaconda3\\envs\\capstone\\lib\\site-packages (from jinja2->torch->easyocr) (2.1.3)\n",
      "Requirement already satisfied: mpmath>=0.19 in c:\\users\\peter\\anaconda3\\envs\\capstone\\lib\\site-packages (from sympy->torch->easyocr) (1.3.0)\n",
      "Requirement already satisfied: opencv-python in c:\\users\\peter\\anaconda3\\envs\\capstone\\lib\\site-packages (4.7.0.72)\n",
      "Requirement already satisfied: numpy>=1.21.2 in c:\\users\\peter\\anaconda3\\envs\\capstone\\lib\\site-packages (from opencv-python) (1.26.4)\n",
      "Requirement already satisfied: torch in c:\\users\\peter\\appdata\\roaming\\python\\python312\\site-packages (2.2.1)\n",
      "Requirement already satisfied: torchvision in c:\\users\\peter\\appdata\\roaming\\python\\python312\\site-packages (0.17.1)\n",
      "Requirement already satisfied: torchaudio in c:\\users\\peter\\anaconda3\\envs\\capstone\\lib\\site-packages (2.2.1)\n",
      "Requirement already satisfied: filelock in c:\\users\\peter\\appdata\\roaming\\python\\python312\\site-packages (from torch) (3.13.1)\n",
      "Requirement already satisfied: typing-extensions>=4.8.0 in c:\\users\\peter\\anaconda3\\envs\\capstone\\lib\\site-packages (from torch) (4.9.0)\n",
      "Requirement already satisfied: sympy in c:\\users\\peter\\anaconda3\\envs\\capstone\\lib\\site-packages (from torch) (1.12)\n",
      "Requirement already satisfied: networkx in c:\\users\\peter\\appdata\\roaming\\python\\python312\\site-packages (from torch) (3.2.1)\n",
      "Requirement already satisfied: jinja2 in c:\\users\\peter\\anaconda3\\envs\\capstone\\lib\\site-packages (from torch) (3.1.3)\n",
      "Requirement already satisfied: fsspec in c:\\users\\peter\\appdata\\roaming\\python\\python312\\site-packages (from torch) (2024.3.1)\n",
      "Requirement already satisfied: numpy in c:\\users\\peter\\anaconda3\\envs\\capstone\\lib\\site-packages (from torchvision) (1.26.4)\n",
      "Requirement already satisfied: pillow!=8.3.*,>=5.3.0 in c:\\users\\peter\\anaconda3\\envs\\capstone\\lib\\site-packages (from torchvision) (10.3.0)\n",
      "Requirement already satisfied: MarkupSafe>=2.0 in c:\\users\\peter\\anaconda3\\envs\\capstone\\lib\\site-packages (from jinja2->torch) (2.1.3)\n",
      "Requirement already satisfied: mpmath>=0.19 in c:\\users\\peter\\anaconda3\\envs\\capstone\\lib\\site-packages (from sympy->torch) (1.3.0)\n",
      "Requirement already satisfied: matplotlib in c:\\users\\peter\\anaconda3\\envs\\capstone\\lib\\site-packages (3.8.3)\n",
      "Requirement already satisfied: contourpy>=1.0.1 in c:\\users\\peter\\anaconda3\\envs\\capstone\\lib\\site-packages (from matplotlib) (1.2.0)\n",
      "Requirement already satisfied: cycler>=0.10 in c:\\users\\peter\\anaconda3\\envs\\capstone\\lib\\site-packages (from matplotlib) (0.10.0)\n",
      "Requirement already satisfied: fonttools>=4.22.0 in c:\\users\\peter\\anaconda3\\envs\\capstone\\lib\\site-packages (from matplotlib) (4.50.0)\n",
      "Requirement already satisfied: kiwisolver>=1.3.1 in c:\\users\\peter\\anaconda3\\envs\\capstone\\lib\\site-packages (from matplotlib) (1.4.5)\n",
      "Requirement already satisfied: numpy<2,>=1.21 in c:\\users\\peter\\anaconda3\\envs\\capstone\\lib\\site-packages (from matplotlib) (1.26.4)\n",
      "Requirement already satisfied: packaging>=20.0 in c:\\users\\peter\\anaconda3\\envs\\capstone\\lib\\site-packages (from matplotlib) (23.2)\n",
      "Requirement already satisfied: pillow>=8 in c:\\users\\peter\\anaconda3\\envs\\capstone\\lib\\site-packages (from matplotlib) (10.3.0)\n",
      "Requirement already satisfied: pyparsing>=2.3.1 in c:\\users\\peter\\anaconda3\\envs\\capstone\\lib\\site-packages (from matplotlib) (3.1.2)\n",
      "Requirement already satisfied: python-dateutil>=2.7 in c:\\users\\peter\\anaconda3\\envs\\capstone\\lib\\site-packages (from matplotlib) (2.8.2)\n",
      "Requirement already satisfied: six in c:\\users\\peter\\anaconda3\\envs\\capstone\\lib\\site-packages (from cycler>=0.10->matplotlib) (1.16.0)\n",
      "Requirement already satisfied: opencv-python-headless in c:\\users\\peter\\anaconda3\\envs\\capstone\\lib\\site-packages (4.8.0.74)\n",
      "Requirement already satisfied: numpy>=1.21.2 in c:\\users\\peter\\anaconda3\\envs\\capstone\\lib\\site-packages (from opencv-python-headless) (1.26.4)\n"
     ]
    },
    {
     "name": "stderr",
     "output_type": "stream",
     "text": [
      "fatal: destination path 'yolov5' already exists and is not an empty directory.\n"
     ]
    },
    {
     "name": "stdout",
     "output_type": "stream",
     "text": [
      "Requirement already satisfied: pyspellchecker in c:\\users\\peter\\anaconda3\\envs\\capstone\\lib\\site-packages (0.8.1)\n",
      "Requirement already satisfied: wordninja in c:\\users\\peter\\anaconda3\\envs\\capstone\\lib\\site-packages (2.0.0)\n",
      " * Serving Flask app '__main__'\n",
      " * Debug mode: off\n"
     ]
    },
    {
     "name": "stderr",
     "output_type": "stream",
     "text": [
      "WARNING: This is a development server. Do not use it in a production deployment. Use a production WSGI server instead.\n",
      " * Running on all addresses (0.0.0.0)\n",
      " * Running on http://127.0.0.1:5000\n",
      " * Running on http://192.168.0.27:5000\n",
      "Press CTRL+C to quit\n"
     ]
    },
    {
     "name": "stdout",
     "output_type": "stream",
     "text": [
      "Received from Arduino: Take Picture\n",
      "Taking picture...\n"
     ]
    },
    {
     "name": "stderr",
     "output_type": "stream",
     "text": [
      "Using cache found in C:\\Users\\peter/.cache\\torch\\hub\\ultralytics_yolov5_master\n",
      "YOLOv5  2024-5-1 Python-3.12.2 torch-2.2.1+cpu CPU\n",
      "\n",
      "Fusing layers... \n",
      "YOLOv5s summary: 213 layers, 7225885 parameters, 0 gradients, 16.4 GFLOPs\n",
      "Adding AutoShape... \n",
      "Using CPU. Note: This module is much faster with a GPU.\n"
     ]
    },
    {
     "name": "stdout",
     "output_type": "stream",
     "text": [
      "['a', 'ball offire; no, Edward realized,', 'watch that Abilene held in her hanc', 'high; and it was reflecting the light', 'watch; he thought', 'And then Abilene disappear', 'rabbit hit the water with such tre', 'hat blew off his head.', \"'\", 'That answers that question,', 'watched the hat dance away on th', 'And then he began to sink.', 'He sank and sank and sank', 'the whole time. Not because he', 'he had', 'no choice. His', 'blue water', 'turning to', 'and', 'watched as it', 'finally became as b', 'Edward went down and dow', 'am', 'going to drown; certainly I wo', 'Far above him; the ocean lin', 'it; sailed blithely on; and the ch', 'on the ocean floor; face down;', 'in the muck, he', 'experienced h', 'emotion.', 'Edward Tulane was afraid.', 'ocean liner 원양 정기선.', 'Six', 'pocket', 'My', 'Painted', 'green', 'Chapter', 'it was his', 'pocket', '[; she was', 'it up', 'of the sun.', 'I need that.', 'ed from view and the', 'mendous force that his', \"'\", 'thought Edward', 'as he', 'e wind.', '히', 'He', 'his eyes open', 'was brave, but because', '7', '~on eyes witnessed the', 'hen to blue', 'lack as night.', '1. He said to himself If I', '5', 'uld have done so by now.', 'er;', 'with Abilene aboard', 'ina rabbit landed, finally;', '{', 'and there with his head', 'is first', 'and true', '53', 'gold', 'holding', 'kept', 'They', 'again.', 'genuine']\n",
      "['a', 'ball of fire no toward realized', 'watch that abalone held in her can c', 'high and it was reflecting the light', 'watch he thought', 'And then abalone disappear', 'rabbit hit the water with such the', 'hat blew off his head', \"'\", 'That answers that question', 'watched the hat dance away on the', 'And then he began to sink', 'He sank and sank and sank', 'the whole time Not because he', 'he had', 'no choice His', 'blue water', 'turning to', 'and', 'watched as it', 'finally became as b', 'toward went down and dow', 'am', 'going to drown certainly I wo', 'Far above him the ocean in', 'it sailed blithely on and the oh', 'on the ocean floor face down', 'in the muck he', 'experienced h', 'emotion', 'toward plane was afraid', 'ocean liner', 'Six', 'pocket', 'My', 'Painted', 'green', 'Chapter', 'it was his', 'pocket', 'she was', 'it up', 'of the sun', 'I need that', 'end from view and the', 'men does force that his', \"'\", 'thought toward', 'as he', 'e wind', '', 'He', 'his eyes open', 'was brave but because', '7', 'on eyes witnessed the', 'hen to blue', 'lack as night', '1 He said to himself If I', '5', 'up d have done so by now', 'er', 'with abalone aboard', 'in a rabbit landed finally', '', 'and there with his head', 'is first', 'and true', '53', 'gold', 'holding', 'kept', 'They', 'again', 'genuine']\n",
      "['a', 'ball of fire no toward realized', 'watch that abalone held in her can c', 'high and it was reflecting the light', 'watch he thought', 'And then abalone disappear', 'rabbit hit the water with such the', 'hat blew off his head', \"'\", 'That answers that question', 'watched the hat dance away on the', 'And then he began to sink', 'He sank and sank and sank', 'the whole time Not because he', 'he had', 'no choice His', 'blue water', 'turning to', 'and', 'watched as it', 'finally became as b', 'toward went down and dow', 'am', 'going to drown certainly I wo', 'Far above him the ocean in', 'it sailed blithely on and the oh', 'on the ocean floor face down', 'in the muck he', 'experienced h', 'emotion', 'toward plane was afraid', 'ocean liner', 'Six', 'pocket', 'My', 'Painted', 'green', 'Chapter', 'it was his', 'pocket', 'she was', 'it up', 'of the sun', 'I need that', 'end from view and the', 'men does force that his', \"'\", 'thought toward', 'as he', 'e wind', 'He', 'his eyes open', 'was brave but because', '7', 'on eyes witnessed the', 'hen to blue', 'lack as night', '1 He said to himself If I', '5', 'up d have done so by now', 'er', 'with abalone aboard', 'in a rabbit landed finally', 'and there with his head', 'is first', 'and true', '53', 'gold', 'holding', 'kept', 'They', 'again', 'genuine']\n",
      "Received from Arduino: Take Picture\n",
      "Taking picture...\n"
     ]
    },
    {
     "name": "stderr",
     "output_type": "stream",
     "text": [
      "Using cache found in C:\\Users\\peter/.cache\\torch\\hub\\ultralytics_yolov5_master\n",
      "YOLOv5  2024-5-1 Python-3.12.2 torch-2.2.1+cpu CPU\n",
      "\n",
      "Fusing layers... \n",
      "YOLOv5s summary: 213 layers, 7225885 parameters, 0 gradients, 16.4 GFLOPs\n",
      "Adding AutoShape... \n",
      "Using CPU. Note: This module is much faster with a GPU.\n"
     ]
    },
    {
     "name": "stdout",
     "output_type": "stream",
     "text": [
      "['a', 'ball offire; no, Edward realized,', 'watch that Abilene held in her hanc', 'high; and it was reflecting the light', 'watch; he thought', 'And then Abilene disappear', 'rabbit hit the water with such tre', 'hat blew off his head.', \"'\", 'That answers that question,', 'watched the hat dance away on th', 'And then he began to sink.', 'He sank and sank and sank', 'the whole time. Not because he', 'he had', 'no choice. His', 'blue water', 'turning to', 'and', 'watched as it', 'finally became as b', 'Edward went down and dow', 'am', 'going to drown; certainly I wo', 'Far above him; the ocean lin', 'it; sailed blithely on; and the ch', 'on the ocean floor; face down;', 'in the muck, he', 'experienced h', 'emotion.', 'Edward Tulane was afraid.', 'ocean liner 원양 정기선.', 'Six', 'pocket', 'My', 'Painted', 'green', 'Chapter', 'it was his', 'pocket', '[; she was', 'it up', 'of the sun.', 'I need that.', 'ed from view and the', 'mendous force that his', \"'\", 'thought Edward', 'as he', 'e wind.', '히', 'He', 'his eyes open', 'was brave, but because', '7', '~on eyes witnessed the', 'hen to blue', 'lack as night.', '1. He said to himself If I', '5', 'uld have done so by now.', 'er;', 'with Abilene aboard', 'ina rabbit landed, finally;', '{', 'and there with his head', 'is first', 'and true', '53', 'gold', 'holding', 'kept', 'They', 'again.', 'genuine']\n",
      "['a', 'ball of fire no toward realized', 'watch that abalone held in her can c', 'high and it was reflecting the light', 'watch he thought', 'And then abalone disappear', 'rabbit hit the water with such the', 'hat blew off his head', \"'\", 'That answers that question', 'watched the hat dance away on the', 'And then he began to sink', 'He sank and sank and sank', 'the whole time Not because he', 'he had', 'no choice His', 'blue water', 'turning to', 'and', 'watched as it', 'finally became as b', 'toward went down and dow', 'am', 'going to drown certainly I wo', 'Far above him the ocean in', 'it sailed blithely on and the oh', 'on the ocean floor face down', 'in the muck he', 'experienced h', 'emotion', 'toward plane was afraid', 'ocean liner', 'Six', 'pocket', 'My', 'Painted', 'green', 'Chapter', 'it was his', 'pocket', 'she was', 'it up', 'of the sun', 'I need that', 'end from view and the', 'men does force that his', \"'\", 'thought toward', 'as he', 'e wind', '', 'He', 'his eyes open', 'was brave but because', '7', 'on eyes witnessed the', 'hen to blue', 'lack as night', '1 He said to himself If I', '5', 'up d have done so by now', 'er', 'with abalone aboard', 'in a rabbit landed finally', '', 'and there with his head', 'is first', 'and true', '53', 'gold', 'holding', 'kept', 'They', 'again', 'genuine']\n",
      "['a', 'ball of fire no toward realized', 'watch that abalone held in her can c', 'high and it was reflecting the light', 'watch he thought', 'And then abalone disappear', 'rabbit hit the water with such the', 'hat blew off his head', \"'\", 'That answers that question', 'watched the hat dance away on the', 'And then he began to sink', 'He sank and sank and sank', 'the whole time Not because he', 'he had', 'no choice His', 'blue water', 'turning to', 'and', 'watched as it', 'finally became as b', 'toward went down and dow', 'am', 'going to drown certainly I wo', 'Far above him the ocean in', 'it sailed blithely on and the oh', 'on the ocean floor face down', 'in the muck he', 'experienced h', 'emotion', 'toward plane was afraid', 'ocean liner', 'Six', 'pocket', 'My', 'Painted', 'green', 'Chapter', 'it was his', 'pocket', 'she was', 'it up', 'of the sun', 'I need that', 'end from view and the', 'men does force that his', \"'\", 'thought toward', 'as he', 'e wind', 'He', 'his eyes open', 'was brave but because', '7', 'on eyes witnessed the', 'hen to blue', 'lack as night', '1 He said to himself If I', '5', 'up d have done so by now', 'er', 'with abalone aboard', 'in a rabbit landed finally', 'and there with his head', 'is first', 'and true', '53', 'gold', 'holding', 'kept', 'They', 'again', 'genuine']\n",
      "Received from Arduino: Next\n",
      "Sending to Arduino: ball of fire no toward realized\n",
      "Received from Arduino: Next\n",
      "Sending to Arduino: watch that abalone held in her can c\n"
     ]
    }
   ],
   "source": [
    "from flask import Flask\n",
    "import serial\n",
    "import threading\n",
    "import subprocess\n",
    "import nbimporter\n",
    "from functions import detect_objects, crop_book, text_detection, text_correction\n",
    "\n",
    "app = Flask(__name__)\n",
    "\n",
    "# 연결할 시리얼 포트와 baudrate 설정\n",
    "ser = serial.Serial('COM3', 9600)\n",
    "\n",
    "# 인식된 텍스트를 저장할 전역 변수\n",
    "recognized_texts_global = []\n",
    "current_text_index = 0\n",
    "\n",
    "def read_from_port(ser):\n",
    "    while True:\n",
    "        reading = ser.readline().decode().strip()  # 끝의 줄바꿈 제거\n",
    "        print(\"Received from Arduino:\", reading)\n",
    "        if reading == \"Take Picture\":\n",
    "            take_picture()\n",
    "        elif reading == \"Next\":\n",
    "            next_text()\n",
    "        elif reading == \"Previous\":\n",
    "            previous_text()\n",
    "        else:\n",
    "            print(\"Received from Arduino:\", reading)\n",
    "\n",
    "def take_picture():\n",
    "    global recognized_texts_global  # 전역 변수 사용을 위한 선언\n",
    "    global current_text_index  # 현재 텍스트 인덱스 초기화\n",
    "    print(\"Taking picture...\")\n",
    "    img_path = \"C:\\\\Users\\\\peter\\\\capstone\\\\camera\\\\test10.jpg\"\n",
    "    crop_book(img_path)\n",
    "    img_left = \"C:\\\\Users\\\\peter\\\\capstone\\\\onePage\\\\left_half.jpg\"\n",
    "    img_right = \"C:\\\\Users\\\\peter\\\\capstone\\\\onePage\\\\right_half.jpg\"\n",
    "    # 텍스트 인식\n",
    "    recognized_texts = text_detection(img_left, img_right)\n",
    "    print(recognized_texts)\n",
    "    # 텍스트 띄어쓰기 및 오타 교정\n",
    "    corrected_texts = text_correction(recognized_texts)\n",
    "    print(corrected_texts)\n",
    "    # 공백이 아니고, 글자가 있는 요소만 필터링\n",
    "    filtered_texts = [text for text in corrected_texts if text.strip()]\n",
    "    print(filtered_texts)\n",
    "    # 필터링된 텍스트를 전역 변수에 저장\n",
    "    recognized_texts_global = filtered_texts  # 새로운 텍스트로 업데이트\n",
    "    current_text_index = 0  # 새로운 텍스트 리스트로 업데이트되면 인덱스 초기화\n",
    "    \n",
    "def next_text():\n",
    "    global current_text_index\n",
    "    if current_text_index < len(recognized_texts_global) - 1:\n",
    "        current_text_index += 1\n",
    "        send_text_to_arduino(recognized_texts_global[current_text_index])\n",
    "    else:\n",
    "        print(\"End of the list\")\n",
    "\n",
    "def previous_text():\n",
    "    global current_text_index\n",
    "    if current_text_index > 0:\n",
    "        current_text_index -= 1\n",
    "        send_text_to_arduino(recognized_texts_global[current_text_index])\n",
    "    else:\n",
    "        print(\"Beginning of the list\")\n",
    "\n",
    "def send_text_to_arduino(text):\n",
    "    print(\"Sending to Arduino:\", text)\n",
    "    ser.write((text + \"\\n\").encode())\n",
    "    \n",
    "@app.route('/')\n",
    "def index():\n",
    "    return \"Serial Communication with Arduino\"\n",
    "\n",
    "thread = threading.Thread(target=read_from_port, args=(ser,))\n",
    "thread.start()\n",
    "\n",
    "if __name__ == '__main__':\n",
    "    app.run(debug=False, host='0.0.0.0', port=5000)"
   ]
  },
  {
   "cell_type": "code",
   "execution_count": null,
   "id": "d204e062-b283-4d75-9fbc-d56cadfa71b8",
   "metadata": {},
   "outputs": [],
   "source": []
  }
 ],
 "metadata": {
  "kernelspec": {
   "display_name": "Python 3 (ipykernel)",
   "language": "python",
   "name": "python3"
  },
  "language_info": {
   "codemirror_mode": {
    "name": "ipython",
    "version": 3
   },
   "file_extension": ".py",
   "mimetype": "text/x-python",
   "name": "python",
   "nbconvert_exporter": "python",
   "pygments_lexer": "ipython3",
   "version": "3.12.2"
  }
 },
 "nbformat": 4,
 "nbformat_minor": 5
}
