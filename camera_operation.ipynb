{
 "cells": [
  {
   "cell_type": "code",
   "execution_count": 2,
   "id": "a49d0685-daec-4368-add8-7e9670ea404f",
   "metadata": {},
   "outputs": [
    {
     "name": "stdout",
     "output_type": "stream",
     "text": [
      "Requirement already satisfied: opencv-python in c:\\users\\peter\\anaconda3\\envs\\capstone\\lib\\site-packages (4.7.0.72)\n",
      "Requirement already satisfied: numpy>=1.21.2 in c:\\users\\peter\\anaconda3\\envs\\capstone\\lib\\site-packages (from opencv-python) (1.26.4)\n"
     ]
    }
   ],
   "source": [
    "# 이미지 영상 처리\n",
    "!pip install opencv-python"
   ]
  },
  {
   "cell_type": "code",
   "execution_count": 4,
   "id": "28945773-ce79-4ff2-8460-e4078b42196d",
   "metadata": {},
   "outputs": [
    {
     "name": "stdout",
     "output_type": "stream",
     "text": [
      "\n",
      "Taking picture...\n",
      "Captured C:\\Users\\peter\\capstone\\camera\\20240519-224307.jpg\n",
      "\n"
     ]
    }
   ],
   "source": [
    "import cv2\n",
    "import time\n",
    "\n",
    "camera = cv2.VideoCapture(0)\n",
    "\n",
    "def taking_picture():\n",
    "    print(\"\\nTaking picture...\")\n",
    "    ret, frame = camera.read()\n",
    "    if ret:\n",
    "        timestamp = time.strftime(\"%Y%m%d-%H%M%S\")\n",
    "        img_path = f\"C:\\\\Users\\\\peter\\\\capstone\\\\camera\\\\{timestamp}.jpg\"\n",
    "        cv2.imwrite(img_path, frame)\n",
    "        print(f\"Picture Path : {img_path}\\n\")\n",
    "    return img_path"
   ]
  },
  {
   "cell_type": "code",
   "execution_count": null,
   "id": "bc8814bb-d9c6-4d35-8e6f-90cd02b9aa0c",
   "metadata": {},
   "outputs": [],
   "source": []
  }
 ],
 "metadata": {
  "kernelspec": {
   "display_name": "Python 3 (ipykernel)",
   "language": "python",
   "name": "python3"
  },
  "language_info": {
   "codemirror_mode": {
    "name": "ipython",
    "version": 3
   },
   "file_extension": ".py",
   "mimetype": "text/x-python",
   "name": "python",
   "nbconvert_exporter": "python",
   "pygments_lexer": "ipython3",
   "version": "3.12.2"
  }
 },
 "nbformat": 4,
 "nbformat_minor": 5
}
