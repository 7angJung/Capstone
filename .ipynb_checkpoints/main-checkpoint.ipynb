{
 "cells": [
  {
   "cell_type": "code",
   "execution_count": 33,
   "id": "49a78702-4308-42d6-b862-c227f3b2c828",
   "metadata": {},
   "outputs": [
    {
     "name": "stderr",
     "output_type": "stream",
     "text": [
      "[NbConvertApp] Converting notebook functions.ipynb to script\n",
      "[NbConvertApp] Writing 4169 bytes to functions.py\n"
     ]
    },
    {
     "name": "stdout",
     "output_type": "stream",
     "text": [
      "Requirement already satisfied: nbimporter in c:\\users\\peter\\anaconda3\\envs\\capstone\\lib\\site-packages (0.3.4)\n"
     ]
    }
   ],
   "source": [
    "!jupyter nbconvert --to script functions.ipynb\n",
    "!pip install nbimporter"
   ]
  },
  {
   "cell_type": "code",
   "execution_count": 10,
   "id": "1c450e56-124b-477c-9543-5d3db3e2c376",
   "metadata": {},
   "outputs": [
    {
     "name": "stderr",
     "output_type": "stream",
     "text": [
      "Using cache found in C:\\Users\\peter/.cache\\torch\\hub\\ultralytics_yolov5_master\n"
     ]
    },
    {
     "name": "stdout",
     "output_type": "stream",
     "text": [
      "\u001b[31m\u001b[1mrequirements:\u001b[0m Ultralytics requirement ['pillow>=10.3.0'] not found, attempting AutoUpdate...\n",
      "\u001b[31m\u001b[1mrequirements:\u001b[0m  AutoUpdate skipped (offline)\n"
     ]
    },
    {
     "name": "stderr",
     "output_type": "stream",
     "text": [
      "YOLOv5  2024-5-1 Python-3.12.2 torch-2.2.1+cpu CPU\n",
      "\n",
      "Fusing layers... \n",
      "YOLOv5s summary: 213 layers, 7225885 parameters, 0 gradients, 16.4 GFLOPs\n",
      "Adding AutoShape... \n",
      "Using CPU. Note: This module is much faster with a GPU.\n"
     ]
    },
    {
     "name": "stdout",
     "output_type": "stream",
     "text": [
      "인식된 텍스트들:\n",
      "따라 평기하거나 소감을 적으시오.기준에잎고연습다음에 제시되는인재자기소개서표고 넓고 깊은'볼수 잇는 유난히 근 키 이름에서 느남들보다 머리 하나만큼 높은(생로-날 요자 하논자씨 그리고 말휘진 꺼지논 경계심올 허물고 언제나 넓은 세상요로(세가지논 저률 특징지올 수 잇는가'최선올 다해서 마무리하논 깊이 이연구와 업무름식품BG 신사업 분아에 지원하여 또 다른장 중요한 3차원의 요소입니다: 이제차원오로의 도약올꿈꾸려 저흘소개하고자 한니다:높이 나는 새틀 꿈꾸떠별로 없/습니다: 부모님의 따뜻한서울에서 나고 자관 저논 넓은 세상올 불기회가 ,(편안하게 초 중; 고 시절올 보볕 수 잇있습니다: 이러한배려로 그저 열심히 공부하다(불만이없고 그러한 불만-은 엉뚱하제도 키로 표출되없습니다: 초편안합이 저논 오히려'메부터 유난히 키가 귀서 저물 쳐다보는 사람들의 시선올 늘 의식해야 하는 것등학교이심없습니다 키다리애계 붙음수 잇는 모든 별명은 다 달고 다녀야 햇고 조금이라도나뿐 짓올 하면 금세 들둥이 나곤 햇습니다:그러나 키만큼 제 마음과 머리가 커지고 나서는 제 키논 사람과 세상올 멀리 볼 수잇는 도구가 되엇습니다: 남들이 저예제 관심올 가지논 만큼 저 또한 그들에게 관심올가지고 그들의 요구에 부응하려고 노력햇올 때 저논 비로소 철이 들어가는 것올 느낌습니다 군 키가 등직하다고 해서 맡겨진 반장; 부반장으로서 봉사하면서 리더심과 책임감올 기틀 수 있있습니다. 하루하루의 일보다는 보다 먼 미래틀 바라보다. 현재의 기뿐보다는 미래의 참기쁨올 꿈구다 매일매일 커자던 초 중; 고 시절이없습니다.요리블 좋아하고 새로운 일올 계획해서 벌여나가기틀 좋아햇년 것 또한 먼 미래틀준비하는 데 근 도움올 주없습니다: 라면올 끓이더라도 조리법과 재료틀 늘 다르게 하면서 가족과 친구들에제 기쁨을 주고자 한 것은 식품생명공학에 관심올 가지는 자연스권 게기가 되있면 것 같습니다. 중학교 때 신문반에서 활동하면서 참신한 기사을 기획해 꼼꼼하게 취재와 정리률 마무리햇다 것 또한 지금의 제 연구조사 활동에 근 도움이 되엇습니다알울 깨고 보다 넓은 세계로저의 특이한 이름 때문에 저논 늘 경계의 대상이/습니다큰 키에다 남자이름으로도독특안 이름올 여자가 가지고 있으니 그럼 수삭에없있습니다. 이런 이름올 지어주신 분도 부모님이지만 이런 백올 깨뜨길 수 있도록기자생활올 하져단 아버지논도와주신 분도 부모넘이/습니다.\"인간관계률 무척 중요시하습니다; 직장생활올 하시면서도가정올 완벽하게 이끌어가는 어머니도 늘 사람이런 부모님 덕분에 저느 경계의'사이의 정올 중요하게 생각 하십니다'대상이 u 수도 잇는제 외적인 물음 깨고 언제나 사람521장 문제해결과 커유니테이선제시된자기소개서클박경개의3차원적'곳에서귀사의들에게 먼저 다가가서 사람들이 가지고 잇는 경계심올 깔 수 있있습니다. 이런 태도는현재 하고 있는 일에도 많은 도움이 되어 식품과 식품 소재에 대한 정보름 탄색하여 분석할 때 제 주위의 많은 사람들로부터 도움올 받습니다.경계름 허물고자 하는 태도는 제 전공올 결정하는 데에도 많은 영향올 미처습니다.저능 음식에 대한 관심이 많아 식품공학에도 관심올 가지고 있엇고, 생명의 본질에 대해서도 관심이 많아 생명과학에도 관심올 가지고 있있습니다. 대학에 진화할 때 이 두가지 사이에서 고민을 하다가 식품생명공학 분야름 발견하고는 식품공학과 생명과학의경계름 허물어 우리 실생활에 직접적인 도움올 줄 수 있올 젓이라 생각하여 식품생명공학과에 지원랫습니다. 대학에서는 학과공부 이외에 과내 동아리와 테니스 동아리 등에서 활동하면서, 농할이나 보육원에서 봉사활동올 하면서  백화점호텔패스트푸드점 . 식당 등에서 아르바이트트 하면서 많은 경험올 쌓으머 제 삶의 경계름 하나하나 혀물어 자습니다. 이러한 경험 속에서 만난 사람들과 그 속에서의 경험이 지금의 사회생활에도 많은 도움올 주고 있습니다.세월 속에 우러나는 깊은 맛대학 4학년 2학기 때부터 지금까지 한국식품개발연구원(이하 KFRI) 기술정보팀에서 일한 경험은 제 지식과 인격의 깊이블 더해주없습니다. 대학에서 배운 이론은 기능성 식품 분야와 식품발호기술 분야의 PM (patent map) 개발 및 보급사업올 진행하면서 더 깊어지고 더 넓어젯습니다 KFRI의 계간지 <쇼위t컷illj과 월간지 <쇼ift t#)의 편집과 발행올 담당하면서 식품과 기술에 대한 이해가 더 깊어적고 기획력과 추진력도 더 커적습니다. 또한 KFRI Infocenter의 특혀 및 각종 정보 검색과 처리블 맡으면서 식품관계 법령올 이해하고 시장상황올 정확하게 분석하고 대비할 수 있는 능력도 키울수 있있습니다.숙성이 훨수록 맛이 나는 음식처럼 지난 3년 간 KFRI에서의 단련기간은 제가 앞으로 귀사에서 하고자 하는 업무에 근 도움이 되리라 생각합니다. 식품 분야의 정보 및 기술마게팅 분석은 제가 이제까지 해 윗단 업무/습니다. 또한 각종 DB 분석 능력과 이틀 바탕으로 한 기획능력은 새로운 사업올 구상하고 이에 대한 구체적 계획올 세우는데 군 도움이 되리라 생각합니다. 그리고 KFRI의 각종 업무와 잡지 발행 과정에서 각종OA에 익숙해저 사무능력올 극대화시길 수 있엿단 것 또한 제게 맡겨진 업무름 신속하게 처리할 수 있는 바탕이 되리라 생각합니다. 마지막으로 부족한 시간올 조개어 학원과 독학으로 익히 영어와 일본어 능력은 조금만 보완이 이루어진다면 귀사에 꼭 필요한최상의 인재가 덜 것으로 확신합니다.또 다른 차원으로의 도약올 꿈꾸떠높이 나는 새가 멀리 볼 수 있는 것처럼 저의 시야률 높여 멀리 보고자 노력해엎습니1.2 커류니키이선53\n",
      "None\n"
     ]
    }
   ],
   "source": [
    "import nbimporter\n",
    "from functions import detect_objects, crop_book, text_detection\n",
    "\n",
    "img_path = \"C:\\\\Users\\\\peter\\\\capstone\\\\camera\\\\test5.jpg\"\n",
    "\n",
    "crop_book(img_path)\n",
    "\n",
    "img_left = \"C:\\\\Users\\\\peter\\\\capstone\\\\onePage\\\\left_half.jpg\"\n",
    "img_right = \"C:\\\\Users\\\\peter\\\\capstone\\\\onePage\\\\right_half.jpg\"\n",
    "\n",
    "recognized_texts = text_detection(img_left, img_right)\n",
    "\n",
    "print(recognized_texts)"
   ]
  },
  {
   "cell_type": "code",
   "execution_count": null,
   "id": "2d1ca2fa-a6c8-482c-a62d-89e8c6ec3610",
   "metadata": {},
   "outputs": [],
   "source": []
  }
 ],
 "metadata": {
  "kernelspec": {
   "display_name": "Python 3 (ipykernel)",
   "language": "python",
   "name": "python3"
  },
  "language_info": {
   "codemirror_mode": {
    "name": "ipython",
    "version": 3
   },
   "file_extension": ".py",
   "mimetype": "text/x-python",
   "name": "python",
   "nbconvert_exporter": "python",
   "pygments_lexer": "ipython3",
   "version": "3.12.2"
  }
 },
 "nbformat": 4,
 "nbformat_minor": 5
}
