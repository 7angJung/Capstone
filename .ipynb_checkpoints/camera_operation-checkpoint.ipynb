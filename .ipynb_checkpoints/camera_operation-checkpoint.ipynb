{
 "cells": [
  {
   "cell_type": "code",
   "execution_count": 2,
   "id": "a49d0685-daec-4368-add8-7e9670ea404f",
   "metadata": {},
   "outputs": [
    {
     "name": "stdout",
     "output_type": "stream",
     "text": [
      "Requirement already satisfied: opencv-python in c:\\users\\peter\\anaconda3\\envs\\capstone\\lib\\site-packages (4.7.0.72)\n",
      "Requirement already satisfied: numpy>=1.21.2 in c:\\users\\peter\\anaconda3\\envs\\capstone\\lib\\site-packages (from opencv-python) (1.26.4)\n"
     ]
    }
   ],
   "source": [
    "# 이미지 영상 처리\n",
    "!pip install opencv-python"
   ]
  },
  {
   "cell_type": "code",
   "execution_count": 1,
   "id": "28945773-ce79-4ff2-8460-e4078b42196d",
   "metadata": {},
   "outputs": [],
   "source": [
    "import cv2\n",
    "import time\n",
    "\n",
    "def taking_picture():\n",
    "    # 기본 img_path 값을 설정. 이미지 저장에 실패할 경우 반환할 값입니다.\n",
    "    img_path = None\n",
    "    camera = cv2.VideoCapture(2)\n",
    "    camera.set(cv2.CAP_PROP_FRAME_WIDTH, 1920)\n",
    "    camera.set(cv2.CAP_PROP_FRAME_HEIGHT, 1080)\n",
    "    print(\"\\nTaking picture...\")\n",
    "    ret, frame = camera.read()\n",
    "    if ret:\n",
    "        timestamp = time.strftime(\"%Y%m%d-%H%M%S\")\n",
    "        img_path = f\"C:\\\\Users\\\\peter\\\\capstone\\\\camera\\\\{timestamp}.jpg\"\n",
    "        cv2.imwrite(img_path, frame)\n",
    "        print(f\"Picture Path : {img_path}\\n\")\n",
    "    return img_path"
   ]
  }
 ],
 "metadata": {
  "kernelspec": {
   "display_name": "Python 3 (ipykernel)",
   "language": "python",
   "name": "python3"
  },
  "language_info": {
   "codemirror_mode": {
    "name": "ipython",
    "version": 3
   },
   "file_extension": ".py",
   "mimetype": "text/x-python",
   "name": "python",
   "nbconvert_exporter": "python",
   "pygments_lexer": "ipython3",
   "version": "3.12.2"
  }
 },
 "nbformat": 4,
 "nbformat_minor": 5
}
