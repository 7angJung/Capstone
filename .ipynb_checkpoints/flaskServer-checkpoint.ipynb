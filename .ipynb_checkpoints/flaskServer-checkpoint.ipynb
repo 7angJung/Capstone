{
 "cells": [
  {
   "cell_type": "code",
   "execution_count": 1,
   "id": "1d687b9d-2308-48db-b13b-aa4f12921d75",
   "metadata": {},
   "outputs": [
    {
     "name": "stdout",
     "output_type": "stream",
     "text": [
      "Requirement already satisfied: flask in c:\\users\\peter\\anaconda3\\envs\\capstone\\lib\\site-packages (3.0.3)\n",
      "Requirement already satisfied: Werkzeug>=3.0.0 in c:\\users\\peter\\anaconda3\\envs\\capstone\\lib\\site-packages (from flask) (3.0.2)\n",
      "Requirement already satisfied: Jinja2>=3.1.2 in c:\\users\\peter\\anaconda3\\envs\\capstone\\lib\\site-packages (from flask) (3.1.3)\n",
      "Requirement already satisfied: itsdangerous>=2.1.2 in c:\\users\\peter\\anaconda3\\envs\\capstone\\lib\\site-packages (from flask) (2.2.0)\n",
      "Requirement already satisfied: click>=8.1.3 in c:\\users\\peter\\anaconda3\\envs\\capstone\\lib\\site-packages (from flask) (8.1.7)\n",
      "Requirement already satisfied: blinker>=1.6.2 in c:\\users\\peter\\anaconda3\\envs\\capstone\\lib\\site-packages (from flask) (1.8.1)\n",
      "Requirement already satisfied: colorama in c:\\users\\peter\\anaconda3\\envs\\capstone\\lib\\site-packages (from click>=8.1.3->flask) (0.4.6)\n",
      "Requirement already satisfied: MarkupSafe>=2.0 in c:\\users\\peter\\anaconda3\\envs\\capstone\\lib\\site-packages (from Jinja2>=3.1.2->flask) (2.1.3)\n",
      "Requirement already satisfied: pyserial in c:\\users\\peter\\anaconda3\\envs\\capstone\\lib\\site-packages (3.5)\n"
     ]
    },
    {
     "name": "stderr",
     "output_type": "stream",
     "text": [
      "[NbConvertApp] Converting notebook functions.ipynb to script\n",
      "[NbConvertApp] Writing 5340 bytes to functions.py\n"
     ]
    },
    {
     "name": "stdout",
     "output_type": "stream",
     "text": [
      "Requirement already satisfied: nbimporter in c:\\users\\peter\\anaconda3\\envs\\capstone\\lib\\site-packages (0.3.4)\n"
     ]
    }
   ],
   "source": [
    "!pip install flask\n",
    "!pip install pyserial\n",
    "!jupyter nbconvert --to script functions.ipynb\n",
    "!pip install nbimporter"
   ]
  },
  {
   "cell_type": "code",
   "execution_count": 12,
   "id": "a5bf08b9-f081-49b7-b265-b879e7538ab2",
   "metadata": {},
   "outputs": [
    {
     "name": "stdout",
     "output_type": "stream",
     "text": [
      " * Serving Flask app '__main__'\n",
      " * Debug mode: off\n"
     ]
    },
    {
     "name": "stderr",
     "output_type": "stream",
     "text": [
      "WARNING: This is a development server. Do not use it in a production deployment. Use a production WSGI server instead.\n",
      " * Running on all addresses (0.0.0.0)\n",
      " * Running on http://127.0.0.1:5000\n",
      " * Running on http://192.168.0.27:5000\n",
      "INFO:werkzeug:\u001b[31m\u001b[1mWARNING: This is a development server. Do not use it in a production deployment. Use a production WSGI server instead.\u001b[0m\n",
      " * Running on all addresses (0.0.0.0)\n",
      " * Running on http://127.0.0.1:5000\n",
      " * Running on http://192.168.0.27:5000\n",
      "Press CTRL+C to quit\n",
      "INFO:werkzeug:\u001b[33mPress CTRL+C to quit\u001b[0m\n",
      "127.0.0.1 - - [10/May/2024 12:01:06] \"GET / HTTP/1.1\" 200 -\n",
      "INFO:werkzeug:127.0.0.1 - - [10/May/2024 12:01:06] \"GET / HTTP/1.1\" 200 -\n",
      "127.0.0.1 - - [10/May/2024 12:01:06] \"GET /favicon.ico HTTP/1.1\" 404 -\n",
      "INFO:werkzeug:127.0.0.1 - - [10/May/2024 12:01:06] \"\u001b[33mGET /favicon.ico HTTP/1.1\u001b[0m\" 404 -\n"
     ]
    }
   ],
   "source": [
    "from flask import Flask, request, jsonify\n",
    "app = Flask(__name__)\n",
    "\n",
    "@app.route('/')\n",
    "def index():\n",
    "    return 'Welcome to my capstone server'\n",
    "\n",
    "if __name__ == '__main__':\n",
    "    app.run(host='0.0.0.0')"
   ]
  },
  {
   "cell_type": "code",
   "execution_count": null,
   "id": "efe07222-0ba1-41a4-a7f1-8b1997e9c27e",
   "metadata": {},
   "outputs": [],
   "source": [
    "from flask import Flask\n",
    "import serial\n",
    "import threading\n",
    "import subprocess\n",
    "import nbimporter\n",
    "from functions import detect_objects, crop_book, text_detection, text_correction\n",
    "\n",
    "app = Flask(__name__)\n",
    "\n",
    "# 연결할 시리얼 포트와 baudrate 설정\n",
    "ser = serial.Serial('COM3', 9600)\n",
    "\n",
    "# 인식된 텍스트를 저장할 전역 변수\n",
    "recognized_texts_global = []\n",
    "current_text_index = 0\n",
    "\n",
    "def read_from_port(ser):\n",
    "    while True:\n",
    "        reading = ser.readline().decode().strip()  # 끝의 줄바꿈 제거\n",
    "        print(\"Received from Arduino:\", reading)\n",
    "        if reading == \"Take Picture\":\n",
    "            take_picture()\n",
    "        elif reading == \"Next\":\n",
    "            next_text()\n",
    "        elif reading == \"Previous\":\n",
    "            previous_text()\n",
    "        else:\n",
    "            print(\"Received from Arduino:\", reading)\n",
    "\n",
    "def take_picture():\n",
    "    global recognized_texts_global  # 전역 변수 사용을 위한 선언\n",
    "    global current_text_index  # 현재 텍스트 인덱스 초기화\n",
    "    print(\"Taking picture...\")\n",
    "    img_path = \"C:\\\\Users\\\\peter\\\\capstone\\\\camera\\\\test10.jpg\"\n",
    "    crop_book(img_path)\n",
    "    img_left = \"C:\\\\Users\\\\peter\\\\capstone\\\\onePage\\\\left_half.jpg\"\n",
    "    img_right = \"C:\\\\Users\\\\peter\\\\capstone\\\\onePage\\\\right_half.jpg\"\n",
    "    # 텍스트 인식\n",
    "    recognized_texts = text_detection(img_left, img_right)\n",
    "    print(recognized_texts)\n",
    "    # 텍스트 띄어쓰기 및 오타 교정\n",
    "    corrected_texts = text_correction(recognized_texts)\n",
    "    print(corrected_texts)\n",
    "    # 공백이 아니고, 글자가 있는 요소만 필터링\n",
    "    filtered_texts = [text for text in corrected_texts if text.strip()]\n",
    "    print(filtered_texts)\n",
    "    # 필터링된 텍스트를 전역 변수에 저장\n",
    "    recognized_texts_global = filtered_texts  # 새로운 텍스트로 업데이트\n",
    "    current_text_index = 0  # 새로운 텍스트 리스트로 업데이트되면 인덱스 초기화\n",
    "    \n",
    "def next_text():\n",
    "    global current_text_index\n",
    "    if current_text_index < len(recognized_texts_global) - 1:\n",
    "        current_text_index += 1\n",
    "        send_text_to_arduino(recognized_texts_global[current_text_index])\n",
    "    else:\n",
    "        print(\"End of the list\")\n",
    "\n",
    "def previous_text():\n",
    "    global current_text_index\n",
    "    if current_text_index > 0:\n",
    "        current_text_index -= 1\n",
    "        send_text_to_arduino(recognized_texts_global[current_text_index])\n",
    "    else:\n",
    "        print(\"Beginning of the list\")\n",
    "\n",
    "def send_text_to_arduino(text):\n",
    "    print(\"Sending to Arduino:\", text)\n",
    "    ser.write((text + \"\\n\").encode())\n",
    "    \n",
    "@app.route('/')\n",
    "def index():\n",
    "    return \"Serial Communication with Arduino\"\n",
    "\n",
    "thread = threading.Thread(target=read_from_port, args=(ser,))\n",
    "thread.start()\n",
    "\n",
    "if __name__ == '__main__':\n",
    "    app.run(debug=False, host='0.0.0.0', port=5000)"
   ]
  },
  {
   "cell_type": "code",
   "execution_count": null,
   "id": "d204e062-b283-4d75-9fbc-d56cadfa71b8",
   "metadata": {},
   "outputs": [],
   "source": []
  }
 ],
 "metadata": {
  "kernelspec": {
   "display_name": "Python 3 (ipykernel)",
   "language": "python",
   "name": "python3"
  },
  "language_info": {
   "codemirror_mode": {
    "name": "ipython",
    "version": 3
   },
   "file_extension": ".py",
   "mimetype": "text/x-python",
   "name": "python",
   "nbconvert_exporter": "python",
   "pygments_lexer": "ipython3",
   "version": "3.12.2"
  }
 },
 "nbformat": 4,
 "nbformat_minor": 5
}
