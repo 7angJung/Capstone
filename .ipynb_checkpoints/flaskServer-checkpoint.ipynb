{
 "cells": [
  {
   "cell_type": "code",
   "execution_count": 1,
   "id": "1d687b9d-2308-48db-b13b-aa4f12921d75",
   "metadata": {},
   "outputs": [
    {
     "name": "stdout",
     "output_type": "stream",
     "text": [
      "Requirement already satisfied: flask in c:\\users\\peter\\anaconda3\\envs\\capstone\\lib\\site-packages (3.0.3)\n",
      "Requirement already satisfied: Werkzeug>=3.0.0 in c:\\users\\peter\\anaconda3\\envs\\capstone\\lib\\site-packages (from flask) (3.0.2)\n",
      "Requirement already satisfied: Jinja2>=3.1.2 in c:\\users\\peter\\anaconda3\\envs\\capstone\\lib\\site-packages (from flask) (3.1.3)\n",
      "Requirement already satisfied: itsdangerous>=2.1.2 in c:\\users\\peter\\anaconda3\\envs\\capstone\\lib\\site-packages (from flask) (2.2.0)\n",
      "Requirement already satisfied: click>=8.1.3 in c:\\users\\peter\\anaconda3\\envs\\capstone\\lib\\site-packages (from flask) (8.1.7)\n",
      "Requirement already satisfied: blinker>=1.6.2 in c:\\users\\peter\\anaconda3\\envs\\capstone\\lib\\site-packages (from flask) (1.8.1)\n",
      "Requirement already satisfied: colorama in c:\\users\\peter\\anaconda3\\envs\\capstone\\lib\\site-packages (from click>=8.1.3->flask) (0.4.6)\n",
      "Requirement already satisfied: MarkupSafe>=2.0 in c:\\users\\peter\\anaconda3\\envs\\capstone\\lib\\site-packages (from Jinja2>=3.1.2->flask) (2.1.3)\n",
      "Requirement already satisfied: pyserial in c:\\users\\peter\\anaconda3\\envs\\capstone\\lib\\site-packages (3.5)\n"
     ]
    },
    {
     "name": "stderr",
     "output_type": "stream",
     "text": [
      "[NbConvertApp] Converting notebook functions.ipynb to script\n",
      "[NbConvertApp] Writing 5326 bytes to functions.py\n"
     ]
    },
    {
     "name": "stdout",
     "output_type": "stream",
     "text": [
      "Requirement already satisfied: nbimporter in c:\\users\\peter\\anaconda3\\envs\\capstone\\lib\\site-packages (0.3.4)\n"
     ]
    }
   ],
   "source": [
    "!pip install flask\n",
    "!pip install pyserial\n",
    "!jupyter nbconvert --to script functions.ipynb\n",
    "!pip install nbimporter"
   ]
  },
  {
   "cell_type": "code",
   "execution_count": null,
   "id": "efe07222-0ba1-41a4-a7f1-8b1997e9c27e",
   "metadata": {},
   "outputs": [
    {
     "name": "stdout",
     "output_type": "stream",
     "text": [
      " * Serving Flask app '__main__'\n",
      " * Debug mode: off\n"
     ]
    },
    {
     "name": "stderr",
     "output_type": "stream",
     "text": [
      "WARNING: This is a development server. Do not use it in a production deployment. Use a production WSGI server instead.\n",
      " * Running on all addresses (0.0.0.0)\n",
      " * Running on http://127.0.0.1:5000\n",
      " * Running on http://192.168.0.27:5000\n",
      "Press CTRL+C to quit\n"
     ]
    },
    {
     "name": "stdout",
     "output_type": "stream",
     "text": [
      "Received from Arduino: Next\n",
      "End of the list\n",
      "\n",
      "Received from Arduino: Previous\n",
      "Beginning of the list\n",
      "\n",
      "Received from Arduino: Take Picture\n",
      "Taking picture...\n"
     ]
    },
    {
     "name": "stderr",
     "output_type": "stream",
     "text": [
      "Using cache found in C:\\Users\\peter/.cache\\torch\\hub\\ultralytics_yolov5_master\n",
      "YOLOv5  2024-5-1 Python-3.12.2 torch-2.2.1+cpu CPU\n",
      "\n",
      "Fusing layers... \n",
      "YOLOv5s summary: 213 layers, 7225885 parameters, 0 gradients, 16.4 GFLOPs\n",
      "Adding AutoShape... \n",
      "Using CPU. Note: This module is much faster with a GPU.\n"
     ]
    },
    {
     "name": "stdout",
     "output_type": "stream",
     "text": [
      "['a', 'ball offire; no, Edward realized,', 'watch that Abilene held in her hanc', 'high; and it was reflecting the light', 'watch; he thought', 'And then Abilene disappear', 'rabbit hit the water with such tre', 'hat blew off his head.', \"'\", 'That answers that question,', 'watched the hat dance away on th', 'And then he began to sink.', 'He sank and sank and sank', 'the whole time. Not because he', 'he had', 'no choice. His', 'blue water', 'turning to', 'and', 'watched as it', 'finally became as b', 'Edward went down and dow', 'am', 'going to drown; certainly I wo', 'Far above him; the ocean lin', 'it; sailed blithely on; and the ch', 'on the ocean floor; face down;', 'in the muck, he', 'experienced h', 'emotion.', 'Edward Tulane was afraid.', 'ocean liner 원양 정기선.', 'Six', 'pocket', 'My', 'Painted', 'green', 'Chapter', 'it was his', 'pocket', '[; she was', 'it up', 'of the sun.', 'I need that.', 'ed from view and the', 'mendous force that his', \"'\", 'thought Edward', 'as he', 'e wind.', '히', 'He', 'his eyes open', 'was brave, but because', '7', '~on eyes witnessed the', 'hen to blue', 'lack as night.', '1. He said to himself If I', '5', 'uld have done so by now.', 'er;', 'with Abilene aboard', 'ina rabbit landed, finally;', '{', 'and there with his head', 'is first', 'and true', '53', 'gold', 'holding', 'kept', 'They', 'again.', 'genuine']\n"
     ]
    },
    {
     "name": "stderr",
     "output_type": "stream",
     "text": [
      "Exception in thread Thread-33 (read_from_port):\n",
      "Traceback (most recent call last):\n",
      "  File \"C:\\Users\\peter\\anaconda3\\envs\\capstone\\Lib\\threading.py\", line 1073, in _bootstrap_inner\n",
      "    self.run()\n",
      "  File \"C:\\Users\\peter\\anaconda3\\envs\\capstone\\Lib\\threading.py\", line 1010, in run\n",
      "    self._target(*self._args, **self._kwargs)\n",
      "  File \"C:\\Users\\peter\\AppData\\Local\\Temp\\ipykernel_9572\\4167829149.py\", line 19, in read_from_port\n",
      "  File \"C:\\Users\\peter\\anaconda3\\envs\\capstone\\Lib\\site-packages\\serial\\serialwin32.py\", line 275, in read\n",
      "    raise SerialException(\"ClearCommError failed ({!r})\".format(ctypes.WinError()))\n",
      "serial.serialutil.SerialException: ClearCommError failed (PermissionError(13, '장치가 명령을 인식하지 않습니다.', None, 22))\n"
     ]
    },
    {
     "name": "stdout",
     "output_type": "stream",
     "text": [
      "['a', 'ball of fire no toward realized', 'watch that abalone held in her can c', 'high and it was reflecting the light', 'watch he thought', 'And then abalone disappear', 'rabbit hit the water with such the', 'hat blew off his head', \"'\", 'That answers that question', 'watched the hat dance away on the', 'And then he began to sink', 'He sank and sank and sank', 'the whole time Not because he', 'he had', 'no choice His', 'blue water', 'turning to', 'and', 'watched as it', 'finally became as b', 'toward went down and dow', 'am', 'going to drown certainly I wo', 'Far above him the ocean in', 'it sailed blithely on and the oh', 'on the ocean floor face down', 'in the muck he', 'experienced h', 'emotion', 'toward plane was afraid', 'ocean liner', 'Six', 'pocket', 'My', 'Painted', 'green', 'Chapter', 'it was his', 'pocket', 'she was', 'it up', 'of the sun', 'I need that', 'end from view and the', 'men does force that his', \"'\", 'thought toward', 'as he', 'e wind', '', 'He', 'his eyes open', 'was brave but because', '7', 'on eyes witnessed the', 'hen to blue', 'lack as night', '1 He said to himself If I', '5', 'up d have done so by now', 'er', 'with abalone aboard', 'in a rabbit landed finally', '', 'and there with his head', 'is first', 'and true', '53', 'gold', 'holding', 'kept', 'They', 'again', 'genuine']\n",
      "['a', 'ball of fire no toward realized', 'watch that abalone held in her can c', 'high and it was reflecting the light', 'watch he thought', 'And then abalone disappear', 'rabbit hit the water with such the', 'hat blew off his head', \"'\", 'That answers that question', 'watched the hat dance away on the', 'And then he began to sink', 'He sank and sank and sank', 'the whole time Not because he', 'he had', 'no choice His', 'blue water', 'turning to', 'and', 'watched as it', 'finally became as b', 'toward went down and dow', 'am', 'going to drown certainly I wo', 'Far above him the ocean in', 'it sailed blithely on and the oh', 'on the ocean floor face down', 'in the muck he', 'experienced h', 'emotion', 'toward plane was afraid', 'ocean liner', 'Six', 'pocket', 'My', 'Painted', 'green', 'Chapter', 'it was his', 'pocket', 'she was', 'it up', 'of the sun', 'I need that', 'end from view and the', 'men does force that his', \"'\", 'thought toward', 'as he', 'e wind', 'He', 'his eyes open', 'was brave but because', '7', 'on eyes witnessed the', 'hen to blue', 'lack as night', '1 He said to himself If I', '5', 'up d have done so by now', 'er', 'with abalone aboard', 'in a rabbit landed finally', 'and there with his head', 'is first', 'and true', '53', 'gold', 'holding', 'kept', 'They', 'again', 'genuine']\n",
      "['a', 'ball offire; no, Edward realized,', 'watch that Abilene held in her hanc', 'high; and it was reflecting the light', 'watch; he thought', 'And then Abilene disappear', 'rabbit hit the water with such tre', 'hat blew off his head.', \"'\", 'That answers that question,', 'watched the hat dance away on th', 'And then he began to sink.', 'He sank and sank and sank', 'the whole time. Not because he', 'he had', 'no choice. His', 'blue water', 'turning to', 'and', 'watched as it', 'finally became as b', 'Edward went down and dow', 'am', 'going to drown; certainly I wo', 'Far above him; the ocean lin', 'it; sailed blithely on; and the ch', 'on the ocean floor; face down;', 'in the muck, he', 'experienced h', 'emotion.', 'Edward Tulane was afraid.', 'ocean liner 원양 정기선.', 'Six', 'pocket', 'My', 'Painted', 'green', 'Chapter', 'it was his', 'pocket', '[; she was', 'it up', 'of the sun.', 'I need that.', 'ed from view and the', 'mendous force that his', \"'\", 'thought Edward', 'as he', 'e wind.', '히', 'He', 'his eyes open', 'was brave, but because', '7', '~on eyes witnessed the', 'hen to blue', 'lack as night.', '1. He said to himself If I', '5', 'uld have done so by now.', 'er;', 'with Abilene aboard', 'ina rabbit landed, finally;', '{', 'and there with his head', 'is first', 'and true', '53', 'gold', 'holding', 'kept', 'They', 'again.', 'genuine']\n",
      "['a', 'ball of fire no toward realized', 'watch that abalone held in her can c', 'high and it was reflecting the light', 'watch he thought', 'And then abalone disappear', 'rabbit hit the water with such the', 'hat blew off his head', \"'\", 'That answers that question', 'watched the hat dance away on the', 'And then he began to sink', 'He sank and sank and sank', 'the whole time Not because he', 'he had', 'no choice His', 'blue water', 'turning to', 'and', 'watched as it', 'finally became as b', 'toward went down and dow', 'am', 'going to drown certainly I wo', 'Far above him the ocean in', 'it sailed blithely on and the oh', 'on the ocean floor face down', 'in the muck he', 'experienced h', 'emotion', 'toward plane was afraid', 'ocean liner', 'Six', 'pocket', 'My', 'Painted', 'green', 'Chapter', 'it was his', 'pocket', 'she was', 'it up', 'of the sun', 'I need that', 'end from view and the', 'men does force that his', \"'\", 'thought toward', 'as he', 'e wind', '', 'He', 'his eyes open', 'was brave but because', '7', 'on eyes witnessed the', 'hen to blue', 'lack as night', '1 He said to himself If I', '5', 'up d have done so by now', 'er', 'with abalone aboard', 'in a rabbit landed finally', '', 'and there with his head', 'is first', 'and true', '53', 'gold', 'holding', 'kept', 'They', 'again', 'genuine']\n",
      "['a', 'ball of fire no toward realized', 'watch that abalone held in her can c', 'high and it was reflecting the light', 'watch he thought', 'And then abalone disappear', 'rabbit hit the water with such the', 'hat blew off his head', \"'\", 'That answers that question', 'watched the hat dance away on the', 'And then he began to sink', 'He sank and sank and sank', 'the whole time Not because he', 'he had', 'no choice His', 'blue water', 'turning to', 'and', 'watched as it', 'finally became as b', 'toward went down and dow', 'am', 'going to drown certainly I wo', 'Far above him the ocean in', 'it sailed blithely on and the oh', 'on the ocean floor face down', 'in the muck he', 'experienced h', 'emotion', 'toward plane was afraid', 'ocean liner', 'Six', 'pocket', 'My', 'Painted', 'green', 'Chapter', 'it was his', 'pocket', 'she was', 'it up', 'of the sun', 'I need that', 'end from view and the', 'men does force that his', \"'\", 'thought toward', 'as he', 'e wind', 'He', 'his eyes open', 'was brave but because', '7', 'on eyes witnessed the', 'hen to blue', 'lack as night', '1 He said to himself If I', '5', 'up d have done so by now', 'er', 'with abalone aboard', 'in a rabbit landed finally', 'and there with his head', 'is first', 'and true', '53', 'gold', 'holding', 'kept', 'They', 'again', 'genuine']\n",
      "Received from Arduino: Next\n",
      "Sending to Arduino: ball of fire no toward realized\n",
      "\n",
      "\n",
      "Received from Arduino: Next\n",
      "Sending to Arduino: watch that abalone held in her can c\n",
      "\n",
      "\n",
      "Received from Arduino: Previous\n",
      "Sending to Arduino: ball of fire no toward realized\n",
      "\n",
      "\n",
      "Received from Arduino: Next\n",
      "Sending to Arduino: watch that abalone held in her can c\n",
      "\n",
      "\n",
      "Received from Arduino: Next\n",
      "Sending to Arduino: high and it was reflecting the light\n",
      "\n",
      "\n"
     ]
    },
    {
     "name": "stderr",
     "output_type": "stream",
     "text": [
      "Exception in thread Thread-34 (read_from_port):\n",
      "Traceback (most recent call last):\n",
      "  File \"C:\\Users\\peter\\anaconda3\\envs\\capstone\\Lib\\threading.py\", line 1073, in _bootstrap_inner\n",
      "    self.run()\n",
      "  File \"C:\\Users\\peter\\anaconda3\\envs\\capstone\\Lib\\threading.py\", line 1010, in run\n",
      "    self._target(*self._args, **self._kwargs)\n",
      "  File \"C:\\Users\\peter\\AppData\\Local\\Temp\\ipykernel_9572\\4167829149.py\", line 19, in read_from_port\n",
      "  File \"C:\\Users\\peter\\anaconda3\\envs\\capstone\\Lib\\site-packages\\serial\\serialwin32.py\", line 275, in read\n",
      "    raise SerialException(\"ClearCommError failed ({!r})\".format(ctypes.WinError()))\n",
      "serial.serialutil.SerialException: ClearCommError failed (PermissionError(13, '장치가 명령을 인식하지 않습니다.', None, 22))\n"
     ]
    },
    {
     "name": "stdout",
     "output_type": "stream",
     "text": [
      "Received from Arduino: \n",
      "Received from Arduino: \n"
     ]
    }
   ],
   "source": [
    "from flask import Flask\n",
    "import serial\n",
    "import threading\n",
    "import subprocess\n",
    "import nbimporter\n",
    "from functions import detect_objects, crop_book, text_detection, text_correction\n",
    "\n",
    "app = Flask(__name__)\n",
    "\n",
    "# 연결할 시리얼 포트와 baudrate 설정\n",
    "ser = serial.Serial('COM3', 9600)\n",
    "\n",
    "# 인식된 텍스트를 저장할 전역 변수\n",
    "recognized_texts_global = []\n",
    "current_text_index = 0\n",
    "\n",
    "def read_from_port(ser):\n",
    "    while True:\n",
    "        reading = ser.readline().decode().strip()  # 끝의 줄바꿈 제거\n",
    "        print(\"Received from Arduino:\", reading)\n",
    "        if reading == \"Take Picture\":\n",
    "            take_picture()\n",
    "        elif reading == \"Next\":\n",
    "            next_text()\n",
    "        elif reading == \"Previous\":\n",
    "            previous_text()\n",
    "        else:\n",
    "            print(\"Received from Arduino:\", reading)\n",
    "\n",
    "def take_picture():\n",
    "    global recognized_texts_global  # 전역 변수 사용을 위한 선언\n",
    "    global current_text_index  # 현재 텍스트 인덱스 초기화\n",
    "    print(\"Taking picture...\")\n",
    "    img_path = \"C:\\\\Users\\\\peter\\\\capstone\\\\camera\\\\test10.jpg\"\n",
    "    crop_book(img_path)\n",
    "    img_left = \"C:\\\\Users\\\\peter\\\\capstone\\\\onePage\\\\left_half.jpg\"\n",
    "    img_right = \"C:\\\\Users\\\\peter\\\\capstone\\\\onePage\\\\right_half.jpg\"\n",
    "    # 텍스트 인식\n",
    "    recognized_texts = text_detection(img_left, img_right)\n",
    "    print(recognized_texts)\n",
    "    # 텍스트 띄어쓰기 및 오타 교정\n",
    "    corrected_texts = text_correction(recognized_texts)\n",
    "    print(corrected_texts)\n",
    "    # 공백이 아니고, 글자가 있는 요소만 필터링\n",
    "    filtered_texts = [text for text in corrected_texts if text.strip()]\n",
    "    print(filtered_texts)\n",
    "    # 필터링된 텍스트를 전역 변수에 저장\n",
    "    recognized_texts_global = filtered_texts  # 새로운 텍스트로 업데이트\n",
    "    current_text_index = 0  # 새로운 텍스트 리스트로 업데이트되면 인덱스 초기화\n",
    "    \n",
    "def next_text():\n",
    "    global current_text_index\n",
    "    if current_text_index < len(recognized_texts_global) - 1:\n",
    "        current_text_index += 1\n",
    "        send_text_to_arduino(recognized_texts_global[current_text_index])\n",
    "    else:\n",
    "        print(\"End of the list\\n\")\n",
    "\n",
    "def previous_text():\n",
    "    global current_text_index\n",
    "    if current_text_index > 0:\n",
    "        current_text_index -= 1\n",
    "        send_text_to_arduino(recognized_texts_global[current_text_index])\n",
    "    else:\n",
    "        print(\"Beginning of the list\\n\")\n",
    "\n",
    "def send_text_to_arduino(text):\n",
    "    print(\"Sending to Arduino:\", text)\n",
    "    ser.write((text + \"\\n\").encode())\n",
    "    print(\"\\n\")\n",
    "    \n",
    "@app.route('/')\n",
    "def index():\n",
    "    return \"Serial Communication with Arduino\"\n",
    "\n",
    "thread = threading.Thread(target=read_from_port, args=(ser,))\n",
    "thread.start()\n",
    "\n",
    "if __name__ == '__main__':\n",
    "    app.run(debug=False, host='0.0.0.0', port=5000)"
   ]
  },
  {
   "cell_type": "code",
   "execution_count": null,
   "id": "77f0b87b-5a69-4494-84a6-1ba9bca05367",
   "metadata": {},
   "outputs": [],
   "source": [
    "!pip install flask\n",
    "!pip install pyserial\n",
    "!pip install opencv-python\n",
    "!pip install nbimporter\n",
    "!jupyter nbconvert --to script text_processing.ipynb\n",
    "!jupyter nbconvert --to script serial_communication.ipynb\n",
    "!jupyter nbconvert --to script image_processing.ipynb\n",
    "!jupyter nbconvert --to script functions.ipynb\n",
    "!jupyter nbconvert --to script camera_operation.ipynb"
   ]
  },
  {
   "cell_type": "code",
   "execution_count": 6,
   "id": "aabb7eda-ee4d-4b8d-bafe-ac8ff179bdaa",
   "metadata": {},
   "outputs": [
    {
     "name": "stdout",
     "output_type": "stream",
     "text": [
      " * Serving Flask app '__main__'\n",
      " * Debug mode: off\n"
     ]
    },
    {
     "name": "stderr",
     "output_type": "stream",
     "text": [
      "WARNING: This is a development server. Do not use it in a production deployment. Use a production WSGI server instead.\n",
      " * Running on all addresses (0.0.0.0)\n",
      " * Running on http://127.0.0.1:5000\n",
      " * Running on http://172.16.18.234:5000\n",
      "Press CTRL+C to quit\n"
     ]
    },
    {
     "name": "stdout",
     "output_type": "stream",
     "text": [
      "Received from Arduino: Take Picture\n",
      "Taking picture...\n"
     ]
    },
    {
     "name": "stderr",
     "output_type": "stream",
     "text": [
      "Using cache found in C:\\Users\\peter/.cache\\torch\\hub\\ultralytics_yolov5_master\n",
      "YOLOv5  2024-5-1 Python-3.12.2 torch-2.2.1+cpu CPU\n",
      "\n",
      "Fusing layers... \n",
      "YOLOv5s summary: 213 layers, 7225885 parameters, 0 gradients, 16.4 GFLOPs\n",
      "Adding AutoShape... \n",
      "Using CPU. Note: This module is much faster with a GPU.\n"
     ]
    },
    {
     "name": "stdout",
     "output_type": "stream",
     "text": [
      "['a', 'ball offire; no, Edward realized,', 'watch that Abilene held in her hanc', 'high; and it was reflecting the light', 'watch; he thought', 'And then Abilene disappear', 'rabbit hit the water with such tre', 'hat blew off his head.', \"'\", 'That answers that question,', 'watched the hat dance away on th', 'And then he began to sink.', 'He sank and sank and sank', 'the whole time. Not because he', 'he had', 'no choice. His', 'blue water', 'turning to', 'and', 'watched as it', 'finally became as b', 'Edward went down and dow', 'am', 'going to drown; certainly I wo', 'Far above him; the ocean lin', 'it; sailed blithely on; and the ch', 'on the ocean floor; face down;', 'in the muck, he', 'experienced h', 'emotion.', 'Edward Tulane was afraid.', 'ocean liner 원양 정기선.', 'Six', 'pocket', 'My', 'Painted', 'green', 'Chapter', 'it was his', 'pocket', '[; she was', 'it up', 'of the sun.', 'I need that.', 'ed from view and the', 'mendous force that his', \"'\", 'thought Edward', 'as he', 'e wind.', '히', 'He', 'his eyes open', 'was brave, but because', '7', '~on eyes witnessed the', 'hen to blue', 'lack as night.', '1. He said to himself If I', '5', 'uld have done so by now.', 'er;', 'with Abilene aboard', 'ina rabbit landed, finally;', '{', 'and there with his head', 'is first', 'and true', '53', 'gold', 'holding', 'kept', 'They', 'again.', 'genuine']\n",
      "['a', 'ball', 'offire;', 'no,', 'Edward', 'realized,', 'watch', 'that', 'Abilene', 'held', 'in', 'her', 'hanc', 'high;', 'and', 'it', 'was', 'reflecting', 'the', 'light', 'watch;', 'he', 'thought', 'And', 'then', 'Abilene', 'disappear', 'rabbit', 'hit', 'the', 'water', 'with', 'such', 'tre', 'hat', 'blew', 'off', 'his', 'head.', \"'\", 'That', 'answers', 'that', 'question,', 'watched', 'the', 'hat', 'dance', 'away', 'on', 'th', 'And', 'then', 'he', 'began', 'to', 'sink.', 'He', 'sank', 'and', 'sank', 'and', 'sank', 'the', 'whole', 'time.', 'Not', 'because', 'he', 'he', 'had', 'no', 'choice.', 'His', 'blue', 'water', 'turning', 'to', 'and', 'watched', 'as', 'it', 'finally', 'became', 'as', 'b', 'Edward', 'went', 'down', 'and', 'dow', 'am', 'going', 'to', 'drown;', 'certainly', 'I', 'wo', 'Far', 'above', 'him;', 'the', 'ocean', 'lin', 'it;', 'sailed', 'blithely', 'on;', 'and', 'the', 'ch', 'on', 'the', 'ocean', 'floor;', 'face', 'down;', 'in', 'the', 'muck,', 'he', 'experienced', 'h', 'emotion.', 'Edward', 'Tulane', 'was', 'afraid.', 'ocean', 'liner', '원양', '정기선.', 'Six', 'pocket', 'My', 'Painted', 'green', 'Chapter', 'it', 'was', 'his', 'pocket', '[;', 'she', 'was', 'it', 'up', 'of', 'the', 'sun.', 'I', 'need', 'that.', 'ed', 'from', 'view', 'and', 'the', 'mendous', 'force', 'that', 'his', \"'\", 'thought', 'Edward', 'as', 'he', 'e', 'wind.', '히', 'He', 'his', 'eyes', 'open', 'was', 'brave,', 'but', 'because', '7', '~on', 'eyes', 'witnessed', 'the', 'hen', 'to', 'blue', 'lack', 'as', 'night.', '1.', 'He', 'said', 'to', 'himself', 'If', 'I', '5', 'uld', 'have', 'done', 'so', 'by', 'now.', 'er;', 'with', 'Abilene', 'aboard', 'ina', 'rabbit', 'landed,', 'finally;', '{', 'and', 'there', 'with', 'his', 'head', 'is', 'first', 'and', 'true', '53', 'gold', 'holding', 'kept', 'They', 'again.', 'genuine']\n",
      "['a', 'ball', 'of fire', 'no', 'toward', 'realized', 'watch', 'that', 'abalone', 'held', 'in', 'her', 'can c', 'high', 'and', 'it', 'was', 'reflecting', 'the', 'light', 'watch', 'he', 'thought', 'And', 'then', 'abalone', 'disappear', 'rabbit', 'hit', 'the', 'water', 'with', 'such', 'the', 'hat', 'blew', 'off', 'his', 'head', \"'\", 'That', 'answers', 'that', 'question', 'watched', 'the', 'hat', 'dance', 'away', 'on', 'the', 'And', 'then', 'he', 'began', 'to', 'sink', 'He', 'sank', 'and', 'sank', 'and', 'sank', 'the', 'whole', 'time', 'Not', 'because', 'he', 'he', 'had', 'no', 'choice', 'His', 'blue', 'water', 'turning', 'to', 'and', 'watched', 'as', 'it', 'finally', 'became', 'as', 'b', 'toward', 'went', 'down', 'and', 'dow', 'am', 'going', 'to', 'drown', 'certainly', 'I', 'wo', 'Far', 'above', 'him', 'the', 'ocean', 'in', 'it', 'sailed', 'blithely', 'on', 'and', 'the', 'oh', 'on', 'the', 'ocean', 'floor', 'face', 'down', 'in', 'the', 'muck', 'he', 'experienced', 'h', 'emotion', 'toward', 'plane', 'was', 'afraid', 'ocean', 'liner', '', '', 'Six', 'pocket', 'My', 'Painted', 'green', 'Chapter', 'it', 'was', 'his', 'pocket', '', 'she', 'was', 'it', 'up', 'of', 'the', 'sun', 'I', 'need', 'that', 'end', 'from', 'view', 'and', 'the', 'men does', 'force', 'that', 'his', \"'\", 'thought', 'toward', 'as', 'he', 'e', 'wind', '', 'He', 'his', 'eyes', 'open', 'was', 'brave', 'but', 'because', '7', 'on', 'eyes', 'witnessed', 'the', 'hen', 'to', 'blue', 'lack', 'as', 'night', '1', 'He', 'said', 'to', 'himself', 'If', 'I', '5', 'up d', 'have', 'done', 'so', 'by', 'now', 'er', 'with', 'abalone', 'aboard', 'in a', 'rabbit', 'landed', 'finally', '', 'and', 'there', 'with', 'his', 'head', 'is', 'first', 'and', 'true', '53', 'gold', 'holding', 'kept', 'They', 'again', 'genuine']\n",
      "['a', 'ball', 'of fire', 'no', 'toward', 'realized', 'watch', 'that', 'abalone', 'held', 'in', 'her', 'can c', 'high', 'and', 'it', 'was', 'reflecting', 'the', 'light', 'watch', 'he', 'thought', 'And', 'then', 'abalone', 'disappear', 'rabbit', 'hit', 'the', 'water', 'with', 'such', 'the', 'hat', 'blew', 'off', 'his', 'head', \"'\", 'That', 'answers', 'that', 'question', 'watched', 'the', 'hat', 'dance', 'away', 'on', 'the', 'And', 'then', 'he', 'began', 'to', 'sink', 'He', 'sank', 'and', 'sank', 'and', 'sank', 'the', 'whole', 'time', 'Not', 'because', 'he', 'he', 'had', 'no', 'choice', 'His', 'blue', 'water', 'turning', 'to', 'and', 'watched', 'as', 'it', 'finally', 'became', 'as', 'b', 'toward', 'went', 'down', 'and', 'dow', 'am', 'going', 'to', 'drown', 'certainly', 'I', 'wo', 'Far', 'above', 'him', 'the', 'ocean', 'in', 'it', 'sailed', 'blithely', 'on', 'and', 'the', 'oh', 'on', 'the', 'ocean', 'floor', 'face', 'down', 'in', 'the', 'muck', 'he', 'experienced', 'h', 'emotion', 'toward', 'plane', 'was', 'afraid', 'ocean', 'liner', 'Six', 'pocket', 'My', 'Painted', 'green', 'Chapter', 'it', 'was', 'his', 'pocket', 'she', 'was', 'it', 'up', 'of', 'the', 'sun', 'I', 'need', 'that', 'end', 'from', 'view', 'and', 'the', 'men does', 'force', 'that', 'his', \"'\", 'thought', 'toward', 'as', 'he', 'e', 'wind', 'He', 'his', 'eyes', 'open', 'was', 'brave', 'but', 'because', '7', 'on', 'eyes', 'witnessed', 'the', 'hen', 'to', 'blue', 'lack', 'as', 'night', '1', 'He', 'said', 'to', 'himself', 'If', 'I', '5', 'up d', 'have', 'done', 'so', 'by', 'now', 'er', 'with', 'abalone', 'aboard', 'in a', 'rabbit', 'landed', 'finally', 'and', 'there', 'with', 'his', 'head', 'is', 'first', 'and', 'true', '53', 'gold', 'holding', 'kept', 'They', 'again', 'genuine']\n",
      "Received from Arduino: Next\n",
      "Sending to Arduino: ball\n",
      "\n",
      "\n",
      "Received from Arduino: Next\n",
      "Sending to Arduino: of fire\n",
      "\n",
      "\n",
      "Received from Arduino: Next\n",
      "Sending to Arduino: no\n",
      "\n",
      "\n",
      "Received from Arduino: Previous\n",
      "Sending to Arduino: of fire\n",
      "\n",
      "\n",
      "Received from Arduino: Next\n",
      "Sending to Arduino: no\n",
      "\n",
      "\n",
      "Received from Arduino: Next\n",
      "Sending to Arduino: toward\n",
      "\n",
      "\n"
     ]
    },
    {
     "name": "stderr",
     "output_type": "stream",
     "text": [
      "Exception in thread Thread-24 (read_from_port):\n",
      "Traceback (most recent call last):\n",
      "  File \"C:\\Users\\peter\\anaconda3\\envs\\capstone\\Lib\\threading.py\", line 1073, in _bootstrap_inner\n",
      "    self.run()\n",
      "  File \"C:\\Users\\peter\\anaconda3\\envs\\capstone\\Lib\\threading.py\", line 1010, in run\n",
      "    self._target(*self._args, **self._kwargs)\n",
      "  File \"C:\\Users\\peter\\AppData\\Local\\Temp\\ipykernel_13864\\3757128658.py\", line 19, in read_from_port\n",
      "  File \"C:\\Users\\peter\\anaconda3\\envs\\capstone\\Lib\\site-packages\\serial\\serialwin32.py\", line 275, in read\n",
      "    raise SerialException(\"ClearCommError failed ({!r})\".format(ctypes.WinError()))\n",
      "serial.serialutil.SerialException: ClearCommError failed (PermissionError(13, '장치가 명령을 인식하지 않습니다.', None, 22))\n"
     ]
    },
    {
     "name": "stdout",
     "output_type": "stream",
     "text": [
      "Received from Arduino: \n",
      "Received from Arduino: \n"
     ]
    }
   ],
   "source": [
    "from flask import Flask\n",
    "import serial\n",
    "import time\n",
    "import os\n",
    "import threading\n",
    "import subprocess\n",
    "import nbimporter\n",
    "from text_processing import text_correction, text_detection\n",
    "from image_processing import crop_book\n",
    "from camera_operation import taking_picture, release_resources\n",
    "\n",
    "app = Flask(__name__)\n",
    "\n",
    "# 연결할 시리얼 포트와 baudrate 설정\n",
    "ser = serial.Serial('COM3', 9600)\n",
    "\n",
    "# 웹캡 초기화    \n",
    "camera = cv2.VideoCapture(0)\n",
    "\n",
    "def read_from_port(ser):\n",
    "    # 인식된 텍스트를 저장할 전역 변수\n",
    "    global recognized_texts_global = []\n",
    "    global current_text_index = 0\n",
    "    \n",
    "    while True:\n",
    "        reading = ser.readline().decode().strip()  # 끝의 줄바꿈 제거\n",
    "        print(\"===============> Received from Arduino : \", reading)\n",
    "        if reading == \"Take Picture\":\n",
    "            # 이미지 촬영\n",
    "            print(\"< Taking Picture >\")\n",
    "            img_path = taking_picture()\n",
    "            \n",
    "            # 이미지 전처리 전 파일명 수정\n",
    "            img_filename = os.path.splitext(os.path.basename(img_path))[0]\n",
    "            base_path = \"C:\\\\Users\\\\peter\\\\capstone\\\\onePage\\\\\"\n",
    "            img_left = f\"{base_path}{img_filename}_left.jpg\"\n",
    "            img_right = f\"{base_path}{img_filename}_right.jpg\"\n",
    "            \n",
    "            # 이미지 전처리\n",
    "            print(\"< Processing Image >\")\n",
    "            crop_book(img_path, img_left, img_right)\n",
    "            \n",
    "            # 이미지 내 텍스트 인식\n",
    "            print(\"< Detecting texts in image >\")\n",
    "            recognized_texts = text_detection(img_left, img_right)\n",
    "            words_list = [word for text in recognized_texts for word in text.split()]\n",
    "            corrected_texts = text_correction(words_list)\n",
    "            filtered_texts = [text for text in corrected_texts if text.strip()]\n",
    "            \n",
    "            print(\"Detected Texts : \", filtered_texts)\n",
    "            recognized_texts_global = filtered_texts  # 새로운 텍스트로 업데이트\n",
    "            current_text_index = 0  # 새로운 텍스트 리스트로 업데이트되면 인덱스 초기화\n",
    "            \n",
    "        elif reading == \"Next\":\n",
    "            next_text()\n",
    "        elif reading == \"Previous\":\n",
    "            previous_text()\n",
    "            \n",
    "def next_text():\n",
    "    global current_text_index\n",
    "    if len(recognized_texts_global) == 0:\n",
    "        print(\"List is Empty\\n\")\n",
    "    elif current_text_index < len(recognized_texts_global) - 1:\n",
    "        current_text_index += 1\n",
    "        send_text_to_arduino(recognized_texts_global[current_text_index])\n",
    "    else:\n",
    "        print(\"End of List\\n\")\n",
    "\n",
    "def previous_text():\n",
    "    global current_text_index\n",
    "    if len(recognized_texts_global) == 0:\n",
    "        print(\"List is Empty\\n\")\n",
    "    elif current_text_index > 0:\n",
    "        current_text_index -= 1\n",
    "        send_text_to_arduino(recognized_texts_global[current_text_index])\n",
    "    else:\n",
    "        print(\"Beginning of List\\n\")\n",
    "\n",
    "def send_text_to_arduino(text):\n",
    "    print(\"Sending to Arduino:\", text)\n",
    "    ser.write((text + \"\\n\").encode())\n",
    "    print(\"\\n\")\n",
    "\n",
    "# 프로그램 종료 시 자원 해제\n",
    "def release_resources():\n",
    "    camera.release()\n",
    "    ser.close()\n",
    "\n",
    "@app.route('/')\n",
    "def index():\n",
    "    return \"Serial Communication with Arduino\"\n",
    "\n",
    "thread = threading.Thread(target=read_from_port, args=(ser,))\n",
    "thread.start()\n",
    "\n",
    "if __name__ == '__main__':\n",
    "    app.run(debug=False, host='0.0.0.0', port=5000)"
   ]
  },
  {
   "cell_type": "code",
   "execution_count": null,
   "id": "a7d1a71c-11ca-4723-8c1f-76f23028d028",
   "metadata": {},
   "outputs": [],
   "source": [
    "from flask import Flask\n",
    "import serial\n",
    "import time\n",
    "import threading\n",
    "import subprocess\n",
    "import nbimporter\n",
    "from text_processing import text_correction, text_detection\n",
    "from image_processing import crop_book\n",
    "from serial_communication import read_from_port, send_text_to_arduino\n",
    "from camera_operation import taking_picture, release_resources\n",
    "\n",
    "app = Flask(__name__)\n",
    "\n",
    "# 연결할 시리얼 포트와 baudrate 설정\n",
    "ser = serial.Serial('COM3', 9600)\n",
    "\n",
    "# 웹캠 초기화 및 기타 필요한 초기화는 camera_operation 내에서 진행합니다.\n",
    "\n",
    "# 인식된 텍스트를 저장할 전역 변수\n",
    "global recognized_texts_global\n",
    "recognized_texts_global = []\n",
    "global current_text_index\n",
    "current_text_index = 0\n",
    "\n",
    "def take_picture():\n",
    "    global recognized_texts_global  # 전역 변수 사용을 위한 선언\n",
    "    global current_text_index  # 현재 텍스트 인덱스 초기화\n",
    "    print(\"Taking picture...\")\n",
    "    img_path = taking_picture()  # 웹캠으로부터 이미지 캡처 및 저장\n",
    "    crop_book(img_path)  # 촬영한 이미지에서 책 부분만 잘라내기\n",
    "    recognized_texts = text_detection(img_path)  # 텍스트 인식\n",
    "    print(\"[인식된 텍스트]\")\n",
    "    print(recognized_texts)\n",
    "    \n",
    "    words_list = [word for text in recognized_texts for word in text.split()]  # 단어별 분리\n",
    "    corrected_texts = text_correction(words_list)  # 텍스트 교정\n",
    "    filtered_texts = [text for text in corrected_texts if text.strip()]  # 필터링\n",
    "    print(filtered_texts)\n",
    "    \n",
    "    recognized_texts_global = filtered_texts  # 전역 변수 업데이트\n",
    "    current_text_index = 0  # 인덱스 초기화\n",
    "\n",
    "def next_text():\n",
    "    # 여기는 기존 로직을 그대로 사용합니다.\n",
    "\n",
    "def previous_text():\n",
    "    # 여기는 기존 로직을 그대로 사용합니다.\n",
    "\n",
    "@app.route('/')\n",
    "def index():\n",
    "    return \"Serial Communication with Arduino\"\n",
    "\n",
    "thread = threading.Thread(target=read_from_port, args=(ser,))\n",
    "thread.start()\n",
    "\n",
    "if __name__ == '__main__':\n",
    "    app.run(debug=False, host='0.0.0.0', port=5000)"
   ]
  }
 ],
 "metadata": {
  "kernelspec": {
   "display_name": "Python 3 (ipykernel)",
   "language": "python",
   "name": "python3"
  },
  "language_info": {
   "codemirror_mode": {
    "name": "ipython",
    "version": 3
   },
   "file_extension": ".py",
   "mimetype": "text/x-python",
   "name": "python",
   "nbconvert_exporter": "python",
   "pygments_lexer": "ipython3",
   "version": "3.12.2"
  }
 },
 "nbformat": 4,
 "nbformat_minor": 5
}
